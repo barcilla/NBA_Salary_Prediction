{
 "cells": [
  {
   "cell_type": "code",
   "execution_count": 327,
   "metadata": {},
   "outputs": [],
   "source": [
    "import pandas as pd\n",
    "import numpy as np\n",
    "import matplotlib.pyplot as plt\n",
    "import seaborn as sns\n",
    "from scipy import stats\n",
    "from scipy.stats import pearsonr\n"
   ]
  },
  {
   "cell_type": "code",
   "execution_count": 328,
   "metadata": {},
   "outputs": [],
   "source": [
    "df=pd.read_csv('data/nba_adv_stats_and_salary.csv')\n",
    "df.drop(columns = ['Lg', 'season_start', 'season_end', 'Tm'], inplace=True)\n",
    "df=df.sort_values('player_id').dropna()"
   ]
  },
  {
   "cell_type": "markdown",
   "metadata": {},
   "source": [
    "First I wanted to separate the data by players."
   ]
  },
  {
   "cell_type": "code",
   "execution_count": 250,
   "metadata": {},
   "outputs": [],
   "source": [
    "pg_salary = df.query('Pos == \"PG\"')['clean_Salary']\n",
    "sg_salary = df.query('Pos == \"SG\"')['clean_Salary']\n",
    "sf_salary = df.query('Pos == \"SF\"')['clean_Salary']\n",
    "pf_salary = df.query('Pos == \"PF\"')['clean_Salary']\n",
    "c_salary = df.query('Pos == \"C\"')['clean_Salary']\n",
    "\n",
    "pg_cap = df.query('Pos == \"PG\"')['%_of_cap']\n",
    "sg_cap = df.query('Pos == \"SG\"')['%_of_cap']\n",
    "sf_cap = df.query('Pos == \"SF\"')['%_of_cap']\n",
    "pf_cap = df.query('Pos == \"PF\"')['%_of_cap']\n",
    "c_cap = df.query('Pos == \"C\"')['%_of_cap']"
   ]
  },
  {
   "cell_type": "code",
   "execution_count": 274,
   "metadata": {},
   "outputs": [],
   "source": [
    "df_prep = df[['Age', 'G', 'MP', 'PER', 'TS%', '3PAr', 'FTr', \n",
    "              'ORB%','DRB%', 'TRB%', 'AST%', 'STL%', 'BLK%', \n",
    "              'TOV%', 'USG%', 'OWS', 'DWS','WS', 'WS/48', 'OBPM', \n",
    "              'DBPM', 'BPM']]\n",
    "columns = list(df_prep)\n",
    "\n",
    "for i in columns:\n",
    "    df[i]"
   ]
  },
  {
   "cell_type": "code",
   "execution_count": 277,
   "metadata": {},
   "outputs": [],
   "source": [
    "#stats as arrays\n",
    "cap = np.array(df['%_of_cap'])\n",
    "usg = np.array(df['USG%'])\n",
    "ts = np.array(df['TS%'])\n",
    "age = np.array(df['Age'])\n",
    "g = np.array(df['G'])\n",
    "mp = np.array(df['MP'])\n",
    "per = np.array(df['PER'])\n",
    "par3 = np.array(df['3PAr'])\n",
    "ftr = np.array(df['FTr'])\n",
    "orb = np.array(df['ORB%'])\n",
    "drb = np.array(df['DRB%'])\n",
    "trb = np.array(df['TRB%'])\n",
    "ast = np.array(df['TRB%'])\n",
    "stl = np.array(df['STL%'])\n",
    "blk = np.array(df['BLK%'])\n",
    "tov = np.array(df['TOV%'])\n",
    "ows = np.array(df['OWS'])\n",
    "dws = np.array(df['DWS'])\n",
    "ws = np.array(df['WS'])\n",
    "ws48 = np.array(df['WS/48'])\n",
    "obpm = np.array(df['OBPM'])\n",
    "dbpm = np.array(df['DBPM'])\n",
    "bpm = np.array(df['BPM'])"
   ]
  },
  {
   "cell_type": "code",
   "execution_count": 252,
   "metadata": {},
   "outputs": [
    {
     "name": "stdout",
     "output_type": "stream",
     "text": [
      "6.0901806122179445e-15\n",
      "Null hypothesis rejected. The distribution of salary among positions is not similar\n"
     ]
    }
   ],
   "source": [
    "#Null Hypothesis: The distribution of salary among positions is similar\n",
    "#Alternative Hypothesis: The distribution of salary among positions is not similar\n",
    "stats, p = stats.kruskal(pg_cap, sg_cap, sf_cap, pf_cap, c_cap)\n",
    "\n",
    "print(p)\n",
    "\n",
    "if p < 0.05:\n",
    "    print('Null hypothesis rejected. The distribution of salary among positions is not similar')\n",
    "else:\n",
    "    print('Null hypothesis is not rejected. The distribution of salary among positions is similiar')\n"
   ]
  },
  {
   "cell_type": "code",
   "execution_count": 308,
   "metadata": {},
   "outputs": [],
   "source": [
    "#Define function for p-value for statistics\n",
    "\n",
    "#Null Hypothesis: The 2 samples are independent.\n",
    "#Alternative Hypothesis: There is a dependency between the samples.\n",
    "\n",
    "def pearson_r(x):\n",
    "    corr, p_stat = pearsonr(cap, x)\n",
    "    print ('p-val for = ', p_stat )\n",
    "    if p_stat < 0.05:\n",
    "        print('Null Hypothesis rejected. There is a dependency between the samples')\n",
    "    else:\n",
    "        print('Null hypothesis is not rejected. The 2 samples are independent')\n",
    "    print('Correlation Coefficient = ', corr)\n",
    "    return "
   ]
  },
  {
   "cell_type": "code",
   "execution_count": 309,
   "metadata": {},
   "outputs": [
    {
     "name": "stdout",
     "output_type": "stream",
     "text": [
      "p-val for =  9.245499032350748e-179\n",
      "Null Hypothesis rejected. There is a dependency between the samples\n",
      "Correlation Coefficient =  0.28071769631445825\n"
     ]
    }
   ],
   "source": [
    "#Percent against Cap vs Age\n",
    "pearson_r(age)"
   ]
  },
  {
   "cell_type": "code",
   "execution_count": 310,
   "metadata": {},
   "outputs": [
    {
     "name": "stdout",
     "output_type": "stream",
     "text": [
      "p-val for =  1.1569436671380743e-178\n",
      "Null Hypothesis rejected. There is a dependency between the samples\n",
      "Correlation Coefficient =  0.280643461127591\n"
     ]
    }
   ],
   "source": [
    "#Percent against Cap vs Games\n",
    "pearson_r(g)"
   ]
  },
  {
   "cell_type": "code",
   "execution_count": 311,
   "metadata": {},
   "outputs": [
    {
     "name": "stdout",
     "output_type": "stream",
     "text": [
      "p-val for =  0.0\n",
      "Null Hypothesis rejected. There is a dependency between the samples\n",
      "Correlation Coefficient =  0.4888638194632478\n"
     ]
    }
   ],
   "source": [
    "#Percent against Cap vs Minutes Played\n",
    "pearson_r(mp)"
   ]
  },
  {
   "cell_type": "code",
   "execution_count": 312,
   "metadata": {},
   "outputs": [
    {
     "name": "stdout",
     "output_type": "stream",
     "text": [
      "p-val for =  1.4439027659757456e-254\n",
      "Null Hypothesis rejected. There is a dependency between the samples\n",
      "Correlation Coefficient =  0.33269137661162745\n"
     ]
    }
   ],
   "source": [
    "#Percent against Cap vs Usage %\n",
    "pearson_r(usg)"
   ]
  },
  {
   "cell_type": "code",
   "execution_count": 313,
   "metadata": {},
   "outputs": [
    {
     "name": "stdout",
     "output_type": "stream",
     "text": [
      "p-val for =  1.1730645936091421e-79\n",
      "Null Hypothesis rejected. There is a dependency between the samples\n",
      "Correlation Coefficient =  0.18822296642089326\n"
     ]
    }
   ],
   "source": [
    "#Percent against Cap vs True Shooting %\n",
    "pearson_r(ts)"
   ]
  },
  {
   "cell_type": "code",
   "execution_count": 314,
   "metadata": {},
   "outputs": [
    {
     "name": "stdout",
     "output_type": "stream",
     "text": [
      "p-val for =  0.0\n",
      "Null Hypothesis rejected. There is a dependency between the samples\n",
      "Correlation Coefficient =  0.4141098968262765\n"
     ]
    }
   ],
   "source": [
    "#Percent against Cap vs Player Efficiency Rating\n",
    "pearson_r(per)"
   ]
  },
  {
   "cell_type": "code",
   "execution_count": 315,
   "metadata": {},
   "outputs": [
    {
     "name": "stdout",
     "output_type": "stream",
     "text": [
      "p-val for =  8.509795780078734e-19\n",
      "Null Hypothesis rejected. There is a dependency between the samples\n",
      "Correlation Coefficient =  -0.08879479184481216\n"
     ]
    }
   ],
   "source": [
    "#Percent against Cap vs 3-Point Attempt Rate\n",
    "pearson_r(par3)"
   ]
  },
  {
   "cell_type": "code",
   "execution_count": 316,
   "metadata": {},
   "outputs": [
    {
     "name": "stdout",
     "output_type": "stream",
     "text": [
      "p-val for =  3.272321657606149e-10\n",
      "Null Hypothesis rejected. There is a dependency between the samples\n",
      "Correlation Coefficient =  0.06310185249954682\n"
     ]
    }
   ],
   "source": [
    "#Percent against Cap vs Free Throw Attempt Rate\n",
    "pearson_r(ftr)"
   ]
  },
  {
   "cell_type": "code",
   "execution_count": 317,
   "metadata": {},
   "outputs": [
    {
     "name": "stdout",
     "output_type": "stream",
     "text": [
      "p-val for =  0.910646148354989\n",
      "Null hypothesis is not rejected. The 2 samples are independent\n",
      "Correlation Coefficient =  0.0011278034278399008\n"
     ]
    }
   ],
   "source": [
    "#Percent against Cap vs Offensive Rebound Percentage\n",
    "pearson_r(orb)"
   ]
  },
  {
   "cell_type": "code",
   "execution_count": 318,
   "metadata": {},
   "outputs": [
    {
     "name": "stdout",
     "output_type": "stream",
     "text": [
      "p-val for =  4.501788179323692e-81\n",
      "Null Hypothesis rejected. There is a dependency between the samples\n",
      "Correlation Coefficient =  0.1898977292011233\n"
     ]
    }
   ],
   "source": [
    "#Percent against Cap vs Defensive Rebound Percentage\n",
    "pearson_r(drb)"
   ]
  },
  {
   "cell_type": "code",
   "execution_count": 319,
   "metadata": {},
   "outputs": [
    {
     "name": "stdout",
     "output_type": "stream",
     "text": [
      "p-val for =  7.811740004586536e-37\n",
      "Null Hypothesis rejected. There is a dependency between the samples\n",
      "Correlation Coefficient =  0.126895583918155\n"
     ]
    }
   ],
   "source": [
    "#Percent against Cap vs Total Rebound Percentage\n",
    "pearson_r(trb)"
   ]
  },
  {
   "cell_type": "code",
   "execution_count": 320,
   "metadata": {},
   "outputs": [
    {
     "name": "stdout",
     "output_type": "stream",
     "text": [
      "p-val for =  0.0\n",
      "Null Hypothesis rejected. There is a dependency between the samples\n",
      "Correlation Coefficient =  0.49219568031722866\n"
     ]
    }
   ],
   "source": [
    "#Percent against Cap vs Offensive Win Shares\n",
    "pearson_r(ows)"
   ]
  },
  {
   "cell_type": "code",
   "execution_count": 321,
   "metadata": {},
   "outputs": [
    {
     "name": "stdout",
     "output_type": "stream",
     "text": [
      "p-val for =  0.0\n",
      "Null Hypothesis rejected. There is a dependency between the samples\n",
      "Correlation Coefficient =  0.49490861048424584\n"
     ]
    }
   ],
   "source": [
    "#Percent against Cap vs Defensive Win Shares\n",
    "pearson_r(dws)"
   ]
  },
  {
   "cell_type": "code",
   "execution_count": 322,
   "metadata": {},
   "outputs": [
    {
     "name": "stdout",
     "output_type": "stream",
     "text": [
      "p-val for =  0.0\n",
      "Null Hypothesis rejected. There is a dependency between the samples\n",
      "Correlation Coefficient =  0.5427574399072819\n"
     ]
    }
   ],
   "source": [
    "#Percent against Cap vs Win Shares\n",
    "pearson_r(ws)"
   ]
  },
  {
   "cell_type": "code",
   "execution_count": 323,
   "metadata": {},
   "outputs": [
    {
     "name": "stdout",
     "output_type": "stream",
     "text": [
      "p-val for =  1.9343654442518402e-204\n",
      "Null Hypothesis rejected. There is a dependency between the samples\n",
      "Correlation Coefficient =  0.2995443142110066\n"
     ]
    }
   ],
   "source": [
    "#Percent against Cap vs Win Shares per 48 minutes\n",
    "pearson_r(ws48)"
   ]
  },
  {
   "cell_type": "code",
   "execution_count": 324,
   "metadata": {},
   "outputs": [
    {
     "name": "stdout",
     "output_type": "stream",
     "text": [
      "p-val for =  6.8408812824336905e-295\n",
      "Null Hypothesis rejected. There is a dependency between the samples\n",
      "Correlation Coefficient =  0.35664271752329746\n"
     ]
    }
   ],
   "source": [
    "#Percent against Cap vs Offensive Box Plus/Minus\n",
    "pearson_r(obpm)"
   ]
  },
  {
   "cell_type": "code",
   "execution_count": 325,
   "metadata": {},
   "outputs": [
    {
     "name": "stdout",
     "output_type": "stream",
     "text": [
      "p-val for =  6.42585374861203e-97\n",
      "Null Hypothesis rejected. There is a dependency between the samples\n",
      "Correlation Coefficient =  0.20765697914077313\n"
     ]
    }
   ],
   "source": [
    "#Percent against Cap vs Defensive Box Plus/Minus\n",
    "pearson_r(dbpm)"
   ]
  },
  {
   "cell_type": "code",
   "execution_count": 326,
   "metadata": {},
   "outputs": [
    {
     "name": "stdout",
     "output_type": "stream",
     "text": [
      "p-val for =  0.0\n",
      "Null Hypothesis rejected. There is a dependency between the samples\n",
      "Correlation Coefficient =  0.39159320362763606\n"
     ]
    }
   ],
   "source": [
    "#Percent against Cap vs Box Plus/Minus\n",
    "pearson_r(bpm)"
   ]
  }
 ],
 "metadata": {
  "kernelspec": {
   "display_name": "Python 3",
   "language": "python",
   "name": "python3"
  },
  "language_info": {
   "codemirror_mode": {
    "name": "ipython",
    "version": 3
   },
   "file_extension": ".py",
   "mimetype": "text/x-python",
   "name": "python",
   "nbconvert_exporter": "python",
   "pygments_lexer": "ipython3",
   "version": "3.7.1"
  }
 },
 "nbformat": 4,
 "nbformat_minor": 2
}
