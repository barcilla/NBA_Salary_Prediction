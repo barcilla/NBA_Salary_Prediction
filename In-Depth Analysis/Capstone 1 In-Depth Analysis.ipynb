{
 "cells": [
  {
   "cell_type": "code",
   "execution_count": 7,
   "metadata": {},
   "outputs": [],
   "source": [
    "import numpy as np\n",
    "import pandas as pd\n",
    "import matplotlib.pyplot as plt\n",
    "import seaborn as sns\n",
    "import timeit"
   ]
  },
  {
   "cell_type": "code",
   "execution_count": 8,
   "metadata": {},
   "outputs": [],
   "source": [
    "df = pd.read_csv('data/nba_dataset.csv')"
   ]
  },
  {
   "cell_type": "code",
   "execution_count": 9,
   "metadata": {},
   "outputs": [],
   "source": [
    "#OneHotEncode Positions and drop columns\n",
    "df = pd.concat([df, pd.get_dummies(df['Pos'])],axis=1)\n",
    "\n",
    "#Group my percentage ranges.\n",
    "group = pd.cut(df['%_of_cap'],[0,0.1,0.15,0.2,0.25,df['%_of_cap'].max()], \n",
    "               labels=['0-10%','10%-15%','15%-20%','20%-25%','25%<='])\n",
    "df['group']=group\n",
    "\n",
    "df.drop(['Pos', '%_of_cap'], axis=1, inplace=True)"
   ]
  },
  {
   "cell_type": "code",
   "execution_count": 10,
   "metadata": {},
   "outputs": [],
   "source": [
    "feature_names = ['Age', 'G', 'MP', 'PER', 'TS%', '3PAr', 'FTr', 'TRB%', 'AST%', 'STL%',\n",
    "                 'BLK%', 'TOV%', 'USG%', 'WS', 'BPM', 'C', 'PF', 'PG', 'SF', 'SG']\n",
    "\n",
    "X = np.array(df.iloc[:,0:20])\n",
    "y = np.array(df.group)"
   ]
  },
  {
   "cell_type": "code",
   "execution_count": 11,
   "metadata": {},
   "outputs": [
    {
     "data": {
      "text/html": [
       "<div>\n",
       "<style scoped>\n",
       "    .dataframe tbody tr th:only-of-type {\n",
       "        vertical-align: middle;\n",
       "    }\n",
       "\n",
       "    .dataframe tbody tr th {\n",
       "        vertical-align: top;\n",
       "    }\n",
       "\n",
       "    .dataframe thead th {\n",
       "        text-align: right;\n",
       "    }\n",
       "</style>\n",
       "<table border=\"1\" class=\"dataframe\">\n",
       "  <thead>\n",
       "    <tr style=\"text-align: right;\">\n",
       "      <th></th>\n",
       "      <th>Age</th>\n",
       "      <th>G</th>\n",
       "      <th>MP</th>\n",
       "      <th>PER</th>\n",
       "      <th>TS%</th>\n",
       "      <th>3PAr</th>\n",
       "      <th>FTr</th>\n",
       "      <th>TRB%</th>\n",
       "      <th>AST%</th>\n",
       "      <th>STL%</th>\n",
       "      <th>...</th>\n",
       "      <th>TOV%</th>\n",
       "      <th>USG%</th>\n",
       "      <th>WS</th>\n",
       "      <th>BPM</th>\n",
       "      <th>C</th>\n",
       "      <th>PF</th>\n",
       "      <th>PG</th>\n",
       "      <th>SF</th>\n",
       "      <th>SG</th>\n",
       "      <th>group</th>\n",
       "    </tr>\n",
       "  </thead>\n",
       "  <tbody>\n",
       "    <tr>\n",
       "      <th>0</th>\n",
       "      <td>26</td>\n",
       "      <td>57</td>\n",
       "      <td>2029</td>\n",
       "      <td>18.6</td>\n",
       "      <td>0.535</td>\n",
       "      <td>0.324</td>\n",
       "      <td>0.164</td>\n",
       "      <td>3.9</td>\n",
       "      <td>34.7</td>\n",
       "      <td>1.6</td>\n",
       "      <td>...</td>\n",
       "      <td>10.1</td>\n",
       "      <td>25.1</td>\n",
       "      <td>5.5</td>\n",
       "      <td>1.1</td>\n",
       "      <td>0</td>\n",
       "      <td>0</td>\n",
       "      <td>1</td>\n",
       "      <td>0</td>\n",
       "      <td>0</td>\n",
       "      <td>10%-15%</td>\n",
       "    </tr>\n",
       "    <tr>\n",
       "      <th>1</th>\n",
       "      <td>31</td>\n",
       "      <td>53</td>\n",
       "      <td>516</td>\n",
       "      <td>9.6</td>\n",
       "      <td>0.489</td>\n",
       "      <td>0.055</td>\n",
       "      <td>0.133</td>\n",
       "      <td>10.6</td>\n",
       "      <td>9.2</td>\n",
       "      <td>0.9</td>\n",
       "      <td>...</td>\n",
       "      <td>13.4</td>\n",
       "      <td>17.7</td>\n",
       "      <td>0.2</td>\n",
       "      <td>-5.2</td>\n",
       "      <td>0</td>\n",
       "      <td>0</td>\n",
       "      <td>0</td>\n",
       "      <td>1</td>\n",
       "      <td>0</td>\n",
       "      <td>0-10%</td>\n",
       "    </tr>\n",
       "    <tr>\n",
       "      <th>2</th>\n",
       "      <td>22</td>\n",
       "      <td>60</td>\n",
       "      <td>560</td>\n",
       "      <td>8.7</td>\n",
       "      <td>0.506</td>\n",
       "      <td>0.426</td>\n",
       "      <td>0.161</td>\n",
       "      <td>4.2</td>\n",
       "      <td>31.6</td>\n",
       "      <td>2.5</td>\n",
       "      <td>...</td>\n",
       "      <td>29.1</td>\n",
       "      <td>18.8</td>\n",
       "      <td>0.2</td>\n",
       "      <td>-4.7</td>\n",
       "      <td>0</td>\n",
       "      <td>0</td>\n",
       "      <td>1</td>\n",
       "      <td>0</td>\n",
       "      <td>0</td>\n",
       "      <td>0-10%</td>\n",
       "    </tr>\n",
       "    <tr>\n",
       "      <th>3</th>\n",
       "      <td>23</td>\n",
       "      <td>41</td>\n",
       "      <td>362</td>\n",
       "      <td>7.8</td>\n",
       "      <td>0.447</td>\n",
       "      <td>0.314</td>\n",
       "      <td>0.343</td>\n",
       "      <td>4.1</td>\n",
       "      <td>20.8</td>\n",
       "      <td>3.0</td>\n",
       "      <td>...</td>\n",
       "      <td>22.0</td>\n",
       "      <td>19.0</td>\n",
       "      <td>-0.3</td>\n",
       "      <td>-6.1</td>\n",
       "      <td>0</td>\n",
       "      <td>0</td>\n",
       "      <td>0</td>\n",
       "      <td>0</td>\n",
       "      <td>1</td>\n",
       "      <td>0-10%</td>\n",
       "    </tr>\n",
       "    <tr>\n",
       "      <th>4</th>\n",
       "      <td>23</td>\n",
       "      <td>73</td>\n",
       "      <td>1614</td>\n",
       "      <td>11.8</td>\n",
       "      <td>0.518</td>\n",
       "      <td>0.008</td>\n",
       "      <td>0.289</td>\n",
       "      <td>10.8</td>\n",
       "      <td>6.5</td>\n",
       "      <td>1.8</td>\n",
       "      <td>...</td>\n",
       "      <td>11.9</td>\n",
       "      <td>13.7</td>\n",
       "      <td>1.7</td>\n",
       "      <td>-1.8</td>\n",
       "      <td>1</td>\n",
       "      <td>0</td>\n",
       "      <td>0</td>\n",
       "      <td>0</td>\n",
       "      <td>0</td>\n",
       "      <td>0-10%</td>\n",
       "    </tr>\n",
       "  </tbody>\n",
       "</table>\n",
       "<p>5 rows × 21 columns</p>\n",
       "</div>"
      ],
      "text/plain": [
       "   Age   G    MP   PER    TS%   3PAr    FTr  TRB%  AST%  STL%   ...     TOV%  \\\n",
       "0   26  57  2029  18.6  0.535  0.324  0.164   3.9  34.7   1.6   ...     10.1   \n",
       "1   31  53   516   9.6  0.489  0.055  0.133  10.6   9.2   0.9   ...     13.4   \n",
       "2   22  60   560   8.7  0.506  0.426  0.161   4.2  31.6   2.5   ...     29.1   \n",
       "3   23  41   362   7.8  0.447  0.314  0.343   4.1  20.8   3.0   ...     22.0   \n",
       "4   23  73  1614  11.8  0.518  0.008  0.289  10.8   6.5   1.8   ...     11.9   \n",
       "\n",
       "   USG%   WS  BPM  C  PF  PG  SF  SG    group  \n",
       "0  25.1  5.5  1.1  0   0   1   0   0  10%-15%  \n",
       "1  17.7  0.2 -5.2  0   0   0   1   0    0-10%  \n",
       "2  18.8  0.2 -4.7  0   0   1   0   0    0-10%  \n",
       "3  19.0 -0.3 -6.1  0   0   0   0   1    0-10%  \n",
       "4  13.7  1.7 -1.8  1   0   0   0   0    0-10%  \n",
       "\n",
       "[5 rows x 21 columns]"
      ]
     },
     "execution_count": 11,
     "metadata": {},
     "output_type": "execute_result"
    }
   ],
   "source": [
    "df.head()"
   ]
  },
  {
   "cell_type": "code",
   "execution_count": 15,
   "metadata": {},
   "outputs": [],
   "source": [
    "from sklearn.model_selection import train_test_split, GridSearchCV, KFold, cross_validate, cross_val_score\n",
    "from sklearn.preprocessing import MinMaxScaler\n",
    "from sklearn.metrics import confusion_matrix, classification_report, accuracy_score\n",
    "from sklearn.tree import DecisionTreeClassifier\n",
    "from sklearn.ensemble import RandomForestClassifier\n",
    "from sklearn.svm import SVC\n",
    "from sklearn.ensemble import AdaBoostClassifier\n",
    "import os\n",
    "os.environ['KMP_DUPLICATE_LIB_OK']='True'\n",
    "from xgboost import XGBClassifier\n",
    "from sklearn.pipeline import Pipeline\n",
    "\n",
    "#Create dictionary of classifiers to try\n",
    "classifiers = {'DecisionTree': DecisionTreeClassifier(random_state=34),  \n",
    "               'RandomForest': RandomForestClassifier(random_state=34), \n",
    "               'SVC': SVC(random_state=34),   \n",
    "               'AdaBoost': AdaBoostClassifier(random_state=34),\n",
    "               'XGBoost': XGBClassifier(random_state=34)}\n",
    "\n",
    "X_train, X_test, y_train, y_test = train_test_split(X, y, test_size = 0.25, random_state = 34)\n"
   ]
  },
  {
   "cell_type": "code",
   "execution_count": 16,
   "metadata": {},
   "outputs": [
    {
     "name": "stderr",
     "output_type": "stream",
     "text": [
      "/Users/brandon.arcilla/anaconda3/lib/python3.7/site-packages/sklearn/utils/deprecation.py:125: FutureWarning: You are accessing a training score ('train_score'), which will not be available by default any more in 0.21. If you need training scores, please set return_train_score=True\n",
      "  warnings.warn(*warn_args, **warn_kwargs)\n",
      "/Users/brandon.arcilla/anaconda3/lib/python3.7/site-packages/sklearn/ensemble/forest.py:246: FutureWarning: The default value of n_estimators will change from 10 in version 0.20 to 100 in 0.22.\n",
      "  \"10 in version 0.20 to 100 in 0.22.\", FutureWarning)\n",
      "/Users/brandon.arcilla/anaconda3/lib/python3.7/site-packages/sklearn/ensemble/forest.py:246: FutureWarning: The default value of n_estimators will change from 10 in version 0.20 to 100 in 0.22.\n",
      "  \"10 in version 0.20 to 100 in 0.22.\", FutureWarning)\n",
      "/Users/brandon.arcilla/anaconda3/lib/python3.7/site-packages/sklearn/ensemble/forest.py:246: FutureWarning: The default value of n_estimators will change from 10 in version 0.20 to 100 in 0.22.\n",
      "  \"10 in version 0.20 to 100 in 0.22.\", FutureWarning)\n",
      "/Users/brandon.arcilla/anaconda3/lib/python3.7/site-packages/sklearn/ensemble/forest.py:246: FutureWarning: The default value of n_estimators will change from 10 in version 0.20 to 100 in 0.22.\n",
      "  \"10 in version 0.20 to 100 in 0.22.\", FutureWarning)\n",
      "/Users/brandon.arcilla/anaconda3/lib/python3.7/site-packages/sklearn/ensemble/forest.py:246: FutureWarning: The default value of n_estimators will change from 10 in version 0.20 to 100 in 0.22.\n",
      "  \"10 in version 0.20 to 100 in 0.22.\", FutureWarning)\n",
      "/Users/brandon.arcilla/anaconda3/lib/python3.7/site-packages/sklearn/utils/deprecation.py:125: FutureWarning: You are accessing a training score ('train_score'), which will not be available by default any more in 0.21. If you need training scores, please set return_train_score=True\n",
      "  warnings.warn(*warn_args, **warn_kwargs)\n",
      "/Users/brandon.arcilla/anaconda3/lib/python3.7/site-packages/sklearn/svm/base.py:196: FutureWarning: The default value of gamma will change from 'auto' to 'scale' in version 0.22 to account better for unscaled features. Set gamma explicitly to 'auto' or 'scale' to avoid this warning.\n",
      "  \"avoid this warning.\", FutureWarning)\n",
      "/Users/brandon.arcilla/anaconda3/lib/python3.7/site-packages/sklearn/svm/base.py:196: FutureWarning: The default value of gamma will change from 'auto' to 'scale' in version 0.22 to account better for unscaled features. Set gamma explicitly to 'auto' or 'scale' to avoid this warning.\n",
      "  \"avoid this warning.\", FutureWarning)\n",
      "/Users/brandon.arcilla/anaconda3/lib/python3.7/site-packages/sklearn/svm/base.py:196: FutureWarning: The default value of gamma will change from 'auto' to 'scale' in version 0.22 to account better for unscaled features. Set gamma explicitly to 'auto' or 'scale' to avoid this warning.\n",
      "  \"avoid this warning.\", FutureWarning)\n",
      "/Users/brandon.arcilla/anaconda3/lib/python3.7/site-packages/sklearn/svm/base.py:196: FutureWarning: The default value of gamma will change from 'auto' to 'scale' in version 0.22 to account better for unscaled features. Set gamma explicitly to 'auto' or 'scale' to avoid this warning.\n",
      "  \"avoid this warning.\", FutureWarning)\n",
      "/Users/brandon.arcilla/anaconda3/lib/python3.7/site-packages/sklearn/svm/base.py:196: FutureWarning: The default value of gamma will change from 'auto' to 'scale' in version 0.22 to account better for unscaled features. Set gamma explicitly to 'auto' or 'scale' to avoid this warning.\n",
      "  \"avoid this warning.\", FutureWarning)\n",
      "/Users/brandon.arcilla/anaconda3/lib/python3.7/site-packages/sklearn/utils/deprecation.py:125: FutureWarning: You are accessing a training score ('train_score'), which will not be available by default any more in 0.21. If you need training scores, please set return_train_score=True\n",
      "  warnings.warn(*warn_args, **warn_kwargs)\n",
      "/Users/brandon.arcilla/anaconda3/lib/python3.7/site-packages/sklearn/utils/deprecation.py:125: FutureWarning: You are accessing a training score ('train_score'), which will not be available by default any more in 0.21. If you need training scores, please set return_train_score=True\n",
      "  warnings.warn(*warn_args, **warn_kwargs)\n",
      "/Users/brandon.arcilla/anaconda3/lib/python3.7/site-packages/sklearn/utils/deprecation.py:125: FutureWarning: You are accessing a training score ('train_score'), which will not be available by default any more in 0.21. If you need training scores, please set return_train_score=True\n",
      "  warnings.warn(*warn_args, **warn_kwargs)\n"
     ]
    }
   ],
   "source": [
    "model_eval = pd.DataFrame({})\n",
    "for key, classifier in classifiers.items():\n",
    "    pipe = Pipeline(steps=[('minmax', MinMaxScaler()),\n",
    "                           ('classifier', classifier)])\n",
    "    kfold = KFold(n_splits=5, random_state=34)\n",
    "    scores = cross_validate(pipe, X_train, y_train, cv=kfold) #Use cross_val_score to get the mean of each fold and standard deviation\n",
    "    model_eval = model_eval.append({'classifier':key,    \n",
    "                                    'mean_fit_time':scores['fit_time'].mean(),\n",
    "                                    'mean_score_time':scores['score_time'].mean(),                       \n",
    "                                    'mean_test_score':scores['test_score'].mean(),\n",
    "                                    'std_test_score':scores['test_score'].std(),\n",
    "                                    'mean_train_score':scores['train_score'].mean(),\n",
    "                                    'std_train_score':scores['train_score'].mean()}, ignore_index=True)"
   ]
  },
  {
   "cell_type": "code",
   "execution_count": 17,
   "metadata": {
    "scrolled": true
   },
   "outputs": [
    {
     "data": {
      "text/html": [
       "<div>\n",
       "<style scoped>\n",
       "    .dataframe tbody tr th:only-of-type {\n",
       "        vertical-align: middle;\n",
       "    }\n",
       "\n",
       "    .dataframe tbody tr th {\n",
       "        vertical-align: top;\n",
       "    }\n",
       "\n",
       "    .dataframe thead th {\n",
       "        text-align: right;\n",
       "    }\n",
       "</style>\n",
       "<table border=\"1\" class=\"dataframe\">\n",
       "  <thead>\n",
       "    <tr style=\"text-align: right;\">\n",
       "      <th></th>\n",
       "      <th>classifier</th>\n",
       "      <th>mean_fit_time</th>\n",
       "      <th>mean_test_score</th>\n",
       "      <th>std_test_score</th>\n",
       "      <th>mean_train_score</th>\n",
       "    </tr>\n",
       "  </thead>\n",
       "  <tbody>\n",
       "    <tr>\n",
       "      <th>0</th>\n",
       "      <td>DecisionTree</td>\n",
       "      <td>0.093074</td>\n",
       "      <td>0.666398</td>\n",
       "      <td>0.007840</td>\n",
       "      <td>1.000000</td>\n",
       "    </tr>\n",
       "    <tr>\n",
       "      <th>1</th>\n",
       "      <td>RandomForest</td>\n",
       "      <td>0.164730</td>\n",
       "      <td>0.745540</td>\n",
       "      <td>0.009935</td>\n",
       "      <td>0.983501</td>\n",
       "    </tr>\n",
       "    <tr>\n",
       "      <th>2</th>\n",
       "      <td>SVC</td>\n",
       "      <td>1.325872</td>\n",
       "      <td>0.730651</td>\n",
       "      <td>0.011307</td>\n",
       "      <td>0.731388</td>\n",
       "    </tr>\n",
       "    <tr>\n",
       "      <th>3</th>\n",
       "      <td>AdaBoost</td>\n",
       "      <td>0.869530</td>\n",
       "      <td>0.747150</td>\n",
       "      <td>0.009784</td>\n",
       "      <td>0.758417</td>\n",
       "    </tr>\n",
       "    <tr>\n",
       "      <th>4</th>\n",
       "      <td>XGBoost</td>\n",
       "      <td>5.224224</td>\n",
       "      <td>0.758417</td>\n",
       "      <td>0.011314</td>\n",
       "      <td>0.793427</td>\n",
       "    </tr>\n",
       "  </tbody>\n",
       "</table>\n",
       "</div>"
      ],
      "text/plain": [
       "     classifier  mean_fit_time  mean_test_score  std_test_score  \\\n",
       "0  DecisionTree       0.093074         0.666398        0.007840   \n",
       "1  RandomForest       0.164730         0.745540        0.009935   \n",
       "2           SVC       1.325872         0.730651        0.011307   \n",
       "3      AdaBoost       0.869530         0.747150        0.009784   \n",
       "4       XGBoost       5.224224         0.758417        0.011314   \n",
       "\n",
       "   mean_train_score  \n",
       "0          1.000000  \n",
       "1          0.983501  \n",
       "2          0.731388  \n",
       "3          0.758417  \n",
       "4          0.793427  "
      ]
     },
     "execution_count": 17,
     "metadata": {},
     "output_type": "execute_result"
    }
   ],
   "source": [
    "model_eval[['classifier', 'mean_fit_time', 'mean_test_score', \n",
    "            'std_test_score', 'mean_train_score']]"
   ]
  },
  {
   "cell_type": "code",
   "execution_count": 873,
   "metadata": {},
   "outputs": [],
   "source": [
    "classifiers_opt = {'RandomForest': RandomForestClassifier(random_state=34),             \n",
    "                   'AdaBoost': AdaBoostClassifier(random_state=34)}\n",
    "model_eval2 = pd.DataFrame({})\n",
    "\n",
    "for key, classifier in classifiers_opt.items():\n",
    "    model_def = Pipeline(steps=[('minmax', MinMaxScaler()),                          \n",
    "                                ('classifier', classifier)])\n",
    "    model_def.fit(X_train, y_train)\n",
    "    model_eval2 = model_eval2.append({'classifier':key,    \n",
    "                                    'accuracy_score':model_def.score(X_test, y_test),\n",
    "                                     'cm':confusion_matrix(y_test,model_def.predict(X_test)),\n",
    "                                     'class_report': classification_report(y_test,model_def.predict(X_test),output_dict=True)}, ignore_index=True)"
   ]
  },
  {
   "cell_type": "code",
   "execution_count": 905,
   "metadata": {
    "scrolled": true
   },
   "outputs": [
    {
     "data": {
      "text/html": [
       "<div>\n",
       "<style scoped>\n",
       "    .dataframe tbody tr th:only-of-type {\n",
       "        vertical-align: middle;\n",
       "    }\n",
       "\n",
       "    .dataframe tbody tr th {\n",
       "        vertical-align: top;\n",
       "    }\n",
       "\n",
       "    .dataframe thead th {\n",
       "        text-align: right;\n",
       "    }\n",
       "</style>\n",
       "<table border=\"1\" class=\"dataframe\">\n",
       "  <thead>\n",
       "    <tr style=\"text-align: right;\">\n",
       "      <th></th>\n",
       "      <th>classifier</th>\n",
       "      <th>accuracy_score</th>\n",
       "    </tr>\n",
       "  </thead>\n",
       "  <tbody>\n",
       "    <tr>\n",
       "      <th>0</th>\n",
       "      <td>RandomForest</td>\n",
       "      <td>0.757344</td>\n",
       "    </tr>\n",
       "    <tr>\n",
       "      <th>1</th>\n",
       "      <td>AdaBoost</td>\n",
       "      <td>0.755332</td>\n",
       "    </tr>\n",
       "  </tbody>\n",
       "</table>\n",
       "</div>"
      ],
      "text/plain": [
       "     classifier  accuracy_score\n",
       "0  RandomForest        0.757344\n",
       "1      AdaBoost        0.755332"
      ]
     },
     "execution_count": 905,
     "metadata": {},
     "output_type": "execute_result"
    }
   ],
   "source": [
    "model_eval2[['classifier', 'accuracy_score']]"
   ]
  },
  {
   "cell_type": "code",
   "execution_count": 903,
   "metadata": {},
   "outputs": [],
   "source": [
    "#Unpacking Classification Report\n",
    "metrics = pd.DataFrame({})\n",
    "\n",
    "classification_report = model_eval2[['classifier',                                          \n",
    "                                     'class_report']].set_index('classifier').to_dict()\n",
    "\n",
    "for key_1, val_1 in classification_report.items():\n",
    "    for key_2, val_2 in val_1.items():\n",
    "        for key_3, val_3 in val_2.items():\n",
    "            for key_4, val_4 in val_3.items():\n",
    "                metrics = metrics.append({'classifier':key_2,                                  \n",
    "                                          'group':key_3,                                  \n",
    "                                         'metric':key_4, \n",
    "                                         'value':val_4},ignore_index=True)\n",
    "\n",
    "#Create pivot table of classification table\n",
    "classification_table = pd.pivot_table(metrics,                        \n",
    "                                      values='value',                      \n",
    "                                      index=['classifier', 'metric'],                      \n",
    "                                     columns='group')"
   ]
  },
  {
   "cell_type": "code",
   "execution_count": 904,
   "metadata": {},
   "outputs": [
    {
     "data": {
      "text/html": [
       "<div>\n",
       "<style scoped>\n",
       "    .dataframe tbody tr th:only-of-type {\n",
       "        vertical-align: middle;\n",
       "    }\n",
       "\n",
       "    .dataframe tbody tr th {\n",
       "        vertical-align: top;\n",
       "    }\n",
       "\n",
       "    .dataframe thead th {\n",
       "        text-align: right;\n",
       "    }\n",
       "</style>\n",
       "<table border=\"1\" class=\"dataframe\">\n",
       "  <thead>\n",
       "    <tr style=\"text-align: right;\">\n",
       "      <th></th>\n",
       "      <th>group</th>\n",
       "      <th>0-10%</th>\n",
       "      <th>10%-15%</th>\n",
       "      <th>15%-20%</th>\n",
       "      <th>20%-25%</th>\n",
       "      <th>25%&lt;=</th>\n",
       "      <th>macro avg</th>\n",
       "      <th>micro avg</th>\n",
       "      <th>weighted avg</th>\n",
       "    </tr>\n",
       "    <tr>\n",
       "      <th>classifier</th>\n",
       "      <th>metric</th>\n",
       "      <th></th>\n",
       "      <th></th>\n",
       "      <th></th>\n",
       "      <th></th>\n",
       "      <th></th>\n",
       "      <th></th>\n",
       "      <th></th>\n",
       "      <th></th>\n",
       "    </tr>\n",
       "  </thead>\n",
       "  <tbody>\n",
       "    <tr>\n",
       "      <th rowspan=\"4\" valign=\"top\">AdaBoost</th>\n",
       "      <th>f1-score</th>\n",
       "      <td>0.893530</td>\n",
       "      <td>0.182278</td>\n",
       "      <td>0.091837</td>\n",
       "      <td>0.105960</td>\n",
       "      <td>0.463576</td>\n",
       "      <td>0.347436</td>\n",
       "      <td>0.755332</td>\n",
       "      <td>0.710217</td>\n",
       "    </tr>\n",
       "    <tr>\n",
       "      <th>precision</th>\n",
       "      <td>0.833650</td>\n",
       "      <td>0.262774</td>\n",
       "      <td>0.360000</td>\n",
       "      <td>0.145455</td>\n",
       "      <td>0.426829</td>\n",
       "      <td>0.405742</td>\n",
       "      <td>0.755332</td>\n",
       "      <td>0.692609</td>\n",
       "    </tr>\n",
       "    <tr>\n",
       "      <th>recall</th>\n",
       "      <td>0.962678</td>\n",
       "      <td>0.139535</td>\n",
       "      <td>0.052632</td>\n",
       "      <td>0.083333</td>\n",
       "      <td>0.507246</td>\n",
       "      <td>0.349085</td>\n",
       "      <td>0.755332</td>\n",
       "      <td>0.755332</td>\n",
       "    </tr>\n",
       "    <tr>\n",
       "      <th>support</th>\n",
       "      <td>1822.000000</td>\n",
       "      <td>258.000000</td>\n",
       "      <td>171.000000</td>\n",
       "      <td>96.000000</td>\n",
       "      <td>138.000000</td>\n",
       "      <td>2485.000000</td>\n",
       "      <td>2485.000000</td>\n",
       "      <td>2485.000000</td>\n",
       "    </tr>\n",
       "    <tr>\n",
       "      <th rowspan=\"4\" valign=\"top\">RandomForest</th>\n",
       "      <th>f1-score</th>\n",
       "      <td>0.890909</td>\n",
       "      <td>0.188586</td>\n",
       "      <td>0.129870</td>\n",
       "      <td>0.165414</td>\n",
       "      <td>0.444444</td>\n",
       "      <td>0.363845</td>\n",
       "      <td>0.757344</td>\n",
       "      <td>0.712802</td>\n",
       "    </tr>\n",
       "    <tr>\n",
       "      <th>precision</th>\n",
       "      <td>0.825070</td>\n",
       "      <td>0.262069</td>\n",
       "      <td>0.250000</td>\n",
       "      <td>0.297297</td>\n",
       "      <td>0.514286</td>\n",
       "      <td>0.429744</td>\n",
       "      <td>0.757344</td>\n",
       "      <td>0.689398</td>\n",
       "    </tr>\n",
       "    <tr>\n",
       "      <th>recall</th>\n",
       "      <td>0.968167</td>\n",
       "      <td>0.147287</td>\n",
       "      <td>0.087719</td>\n",
       "      <td>0.114583</td>\n",
       "      <td>0.391304</td>\n",
       "      <td>0.341812</td>\n",
       "      <td>0.757344</td>\n",
       "      <td>0.757344</td>\n",
       "    </tr>\n",
       "    <tr>\n",
       "      <th>support</th>\n",
       "      <td>1822.000000</td>\n",
       "      <td>258.000000</td>\n",
       "      <td>171.000000</td>\n",
       "      <td>96.000000</td>\n",
       "      <td>138.000000</td>\n",
       "      <td>2485.000000</td>\n",
       "      <td>2485.000000</td>\n",
       "      <td>2485.000000</td>\n",
       "    </tr>\n",
       "  </tbody>\n",
       "</table>\n",
       "</div>"
      ],
      "text/plain": [
       "group                         0-10%     10%-15%     15%-20%    20%-25%  \\\n",
       "classifier   metric                                                      \n",
       "AdaBoost     f1-score      0.893530    0.182278    0.091837   0.105960   \n",
       "             precision     0.833650    0.262774    0.360000   0.145455   \n",
       "             recall        0.962678    0.139535    0.052632   0.083333   \n",
       "             support    1822.000000  258.000000  171.000000  96.000000   \n",
       "RandomForest f1-score      0.890909    0.188586    0.129870   0.165414   \n",
       "             precision     0.825070    0.262069    0.250000   0.297297   \n",
       "             recall        0.968167    0.147287    0.087719   0.114583   \n",
       "             support    1822.000000  258.000000  171.000000  96.000000   \n",
       "\n",
       "group                        25%<=    macro avg    micro avg  weighted avg  \n",
       "classifier   metric                                                         \n",
       "AdaBoost     f1-score     0.463576     0.347436     0.755332      0.710217  \n",
       "             precision    0.426829     0.405742     0.755332      0.692609  \n",
       "             recall       0.507246     0.349085     0.755332      0.755332  \n",
       "             support    138.000000  2485.000000  2485.000000   2485.000000  \n",
       "RandomForest f1-score     0.444444     0.363845     0.757344      0.712802  \n",
       "             precision    0.514286     0.429744     0.757344      0.689398  \n",
       "             recall       0.391304     0.341812     0.757344      0.757344  \n",
       "             support    138.000000  2485.000000  2485.000000   2485.000000  "
      ]
     },
     "execution_count": 904,
     "metadata": {},
     "output_type": "execute_result"
    }
   ],
   "source": [
    "classification_table"
   ]
  },
  {
   "cell_type": "markdown",
   "metadata": {},
   "source": [
    "Hyperparameter Tuning\n",
    "\n",
    "Will begin with using GridSearch for AdaBoost Classifier"
   ]
  },
  {
   "cell_type": "code",
   "execution_count": 887,
   "metadata": {},
   "outputs": [
    {
     "data": {
      "text/plain": [
       "Pipeline(memory=None,\n",
       "     steps=[('minmax', MinMaxScaler(copy=True, feature_range=(0, 1))), ('grid', GridSearchCV(cv=KFold(n_splits=5, random_state=34, shuffle=False),\n",
       "       error_score='raise-deprecating',\n",
       "       estimator=AdaBoostClassifier(algorithm='SAMME.R', base_estimator=None,\n",
       "          learning_rate=1.0, n_estimator...   pre_dispatch='2*n_jobs', refit=True, return_train_score='warn',\n",
       "       scoring=None, verbose=0))])"
      ]
     },
     "execution_count": 887,
     "metadata": {},
     "output_type": "execute_result"
    }
   ],
   "source": [
    "param_grid_ada = {'learning_rate':[.001, .01, .1],                                \n",
    "                  'n_estimators':[500, 1000, 2000],                                                   \n",
    "                  'random_state':[34]}\n",
    "\n",
    "kfold = KFold(n_splits=5, random_state=34)\n",
    "grid = GridSearchCV(AdaBoostClassifier(), param_grid = param_grid_ada ,cv=kfold)\n",
    "\n",
    "pipe_ada = Pipeline(steps = [('minmax', MinMaxScaler()),\n",
    "                            ('grid', grid)])\n",
    "pipe_ada.fit(X_train, y_train)\n",
    "\n",
    "#grid = grid.fit(X_train, y_train)\n"
   ]
  },
  {
   "cell_type": "code",
   "execution_count": 893,
   "metadata": {},
   "outputs": [
    {
     "name": "stdout",
     "output_type": "stream",
     "text": [
      "Model Accuracy:  0.7637826961770624\n",
      "Training Score:  0.7691482226693495\n",
      "Best Parameters:  {'learning_rate': 0.1, 'n_estimators': 1000, 'random_state': 34}\n"
     ]
    }
   ],
   "source": [
    "ada_predict = pipe_ada.predict(X_test)\n",
    "print('Model Accuracy: ', accuracy_score(y_test, ada_predict))\n",
    "print('Training Score: ' , pipe_ada.score(X_train, y_train))\n",
    "print('Best Parameters: ', pipe_ada.steps[1][1].best_params_)"
   ]
  },
  {
   "cell_type": "code",
   "execution_count": 895,
   "metadata": {
    "scrolled": false
   },
   "outputs": [
    {
     "name": "stdout",
     "output_type": "stream",
     "text": [
      "[[1762   33    2   11   14]\n",
      " [ 192   39    8    4   15]\n",
      " [  84   38   11   10   28]\n",
      " [  36   15    9   14   22]\n",
      " [  18   23    6   19   72]]\n"
     ]
    }
   ],
   "source": [
    "print(confusion_matrix(y_test, ada_predict))"
   ]
  },
  {
   "cell_type": "code",
   "execution_count": 894,
   "metadata": {
    "scrolled": true
   },
   "outputs": [
    {
     "name": "stdout",
     "output_type": "stream",
     "text": [
      "              precision    recall  f1-score   support\n",
      "\n",
      "       0-10%       0.84      0.97      0.90      1822\n",
      "     10%-15%       0.26      0.15      0.19       258\n",
      "     15%-20%       0.31      0.06      0.11       171\n",
      "     20%-25%       0.24      0.15      0.18        96\n",
      "       25%<=       0.48      0.52      0.50       138\n",
      "\n",
      "   micro avg       0.76      0.76      0.76      2485\n",
      "   macro avg       0.43      0.37      0.38      2485\n",
      "weighted avg       0.70      0.76      0.72      2485\n",
      "\n"
     ]
    }
   ],
   "source": [
    "print(classification_report(y_test, ada_predict))"
   ]
  },
  {
   "cell_type": "code",
   "execution_count": 18,
   "metadata": {},
   "outputs": [
    {
     "data": {
      "text/plain": [
       "Pipeline(memory=None,\n",
       "     steps=[('minmax', MinMaxScaler(copy=True, feature_range=(0, 1))), ('grid', GridSearchCV(cv=KFold(n_splits=5, random_state=34, shuffle=False),\n",
       "       error_score='raise-deprecating',\n",
       "       estimator=AdaBoostClassifier(algorithm='SAMME.R', base_estimator=None,\n",
       "          learning_rate=1.0, n_estimator...   pre_dispatch='2*n_jobs', refit=True, return_train_score='warn',\n",
       "       scoring=None, verbose=0))])"
      ]
     },
     "execution_count": 18,
     "metadata": {},
     "output_type": "execute_result"
    }
   ],
   "source": [
    "param_grid_ada = {'learning_rate':[.1],                                \n",
    "                  'n_estimators':[1000],                                                   \n",
    "                  'random_state':[34]}\n",
    "\n",
    "kfold = KFold(n_splits=5, random_state=34)\n",
    "grid = GridSearchCV(AdaBoostClassifier(), param_grid = param_grid_ada ,cv=kfold)\n",
    "\n",
    "pipe_ada = Pipeline(steps = [('minmax', MinMaxScaler()),\n",
    "                            ('grid', grid)])\n",
    "pipe_ada.fit(X_train, y_train)\n"
   ]
  },
  {
   "cell_type": "code",
   "execution_count": 19,
   "metadata": {},
   "outputs": [
    {
     "name": "stdout",
     "output_type": "stream",
     "text": [
      "Age = 0.117\n",
      "G = 0.139\n",
      "MP = 0.162\n",
      "PER = 0.039\n",
      "TS% = 0.078\n",
      "3PAr = 0.015\n",
      "FTr = 0.054\n",
      "TRB% = 0.078\n",
      "AST% = 0.038\n",
      "STL% = 0.039\n",
      "BLK% = 0.036\n",
      "TOV% = 0.05\n",
      "USG% = 0.066\n",
      "WS = 0.02\n",
      "BPM = 0.067\n",
      "C = 0.0\n",
      "PF = 0.002\n",
      "PG = 0.0\n",
      "SF = 0.0\n",
      "SG = 0.0\n"
     ]
    }
   ],
   "source": [
    "for feature, importance in zip(feature_names, pipe_ada.steps[1][1].best_estimator_.feature_importances_):\n",
    "    print (feature, '=', importance)"
   ]
  },
  {
   "cell_type": "code",
   "execution_count": 21,
   "metadata": {},
   "outputs": [
    {
     "data": {
      "image/png": "[encoded data removed]",
      "text/plain": [
       "<Figure size 432x288 with 1 Axes>"
      ]
     },
     "metadata": {
      "needs_background": "light"
     },
     "output_type": "display_data"
    }
   ],
   "source": [
    "features = feature_names\n",
    "importances = pipe_ada.steps[1][1].best_estimator_.feature_importances_\n",
    "indices = np.argsort(importances)\n",
    "\n",
    "_ = plt.title('Feature Importances')\n",
    "_ = plt.barh(range(len(indices)), importances[indices], color='b', align='center')\n",
    "_ = plt.yticks(range(len(indices)), [features[i] for i in indices])\n",
    "_ = plt.xlabel('Relative Importance')\n",
    "plt.show()"
   ]
  },
  {
   "cell_type": "code",
   "execution_count": 898,
   "metadata": {},
   "outputs": [
    {
     "data": {
      "text/plain": [
       "Pipeline(memory=None,\n",
       "     steps=[('minmax', MinMaxScaler(copy=True, feature_range=(0, 1))), ('grid_rf', GridSearchCV(cv=KFold(n_splits=5, random_state=34, shuffle=False),\n",
       "       error_score='raise-deprecating',\n",
       "       estimator=RandomForestClassifier(bootstrap=True, class_weight=None, criterion='gini',\n",
       "            max_depth=...   pre_dispatch='2*n_jobs', refit=True, return_train_score='warn',\n",
       "       scoring=None, verbose=0))])"
      ]
     },
     "execution_count": 898,
     "metadata": {},
     "output_type": "execute_result"
    }
   ],
   "source": [
    "param_grid_rf = {'max_features':['auto', 'sqrt', 'log2'],                                  \n",
    "                 'n_estimators':[500, 1000, 2000],  \n",
    "                 'max_depth':[2, 3, 5, 8],\n",
    "                 'random_state':[34]}\n",
    "\n",
    "kfold = KFold(n_splits=5, random_state=34)\n",
    "grid_rf = GridSearchCV(RandomForestClassifier(), param_grid = param_grid_rf ,cv=kfold)\n",
    "\n",
    "pipe_rf = Pipeline(steps = [('minmax', MinMaxScaler()),\n",
    "                            ('grid_rf', grid_rf)])\n",
    "pipe_rf.fit(X_train, y_train)"
   ]
  },
  {
   "cell_type": "code",
   "execution_count": 899,
   "metadata": {},
   "outputs": [
    {
     "name": "stdout",
     "output_type": "stream",
     "text": [
      "Model Accuracy:  0.7625754527162978\n",
      "Training Score:  0.794634473507713\n",
      "Best Parameters:  {'max_depth': 8, 'max_features': 'auto', 'n_estimators': 2000, 'random_state': 34}\n"
     ]
    }
   ],
   "source": [
    "rf_predict = pipe_rf.predict(X_test)\n",
    "\n",
    "print('Model Accuracy: ', accuracy_score(y_test, rf_predict))\n",
    "print('Training Score: ' , pipe_rf.score(X_train, y_train))\n",
    "print('Best Parameters: ', pipe_rf.steps[1][1].best_params_)"
   ]
  },
  {
   "cell_type": "code",
   "execution_count": 859,
   "metadata": {
    "scrolled": true
   },
   "outputs": [
    {
     "name": "stdout",
     "output_type": "stream",
     "text": [
      "[[1803    6    1    1   11]\n",
      " [ 226   16    5    0   11]\n",
      " [ 126   10    4    1   30]\n",
      " [  63    5    0    0   28]\n",
      " [  50   10    5    1   72]]\n"
     ]
    }
   ],
   "source": [
    "print(confusion_matrix(y_test, rf_predict))"
   ]
  },
  {
   "cell_type": "code",
   "execution_count": 858,
   "metadata": {},
   "outputs": [
    {
     "name": "stdout",
     "output_type": "stream",
     "text": [
      "              precision    recall  f1-score   support\n",
      "\n",
      "       0-10%       0.79      0.99      0.88      1822\n",
      "     10%-15%       0.34      0.06      0.10       258\n",
      "     15%-20%       0.27      0.02      0.04       171\n",
      "     20%-25%       0.00      0.00      0.00        96\n",
      "       25%<=       0.47      0.52      0.50       138\n",
      "\n",
      "   micro avg       0.76      0.76      0.76      2485\n",
      "   macro avg       0.38      0.32      0.31      2485\n",
      "weighted avg       0.66      0.76      0.69      2485\n",
      "\n"
     ]
    }
   ],
   "source": [
    "print(classification_report(y_test, rf_predict))"
   ]
  }
 ],
 "metadata": {
  "kernelspec": {
   "display_name": "Python 3",
   "language": "python",
   "name": "python3"
  },
  "language_info": {
   "codemirror_mode": {
    "name": "ipython",
    "version": 3
   },
   "file_extension": ".py",
   "mimetype": "text/x-python",
   "name": "python",
   "nbconvert_exporter": "python",
   "pygments_lexer": "ipython3",
   "version": "3.7.1"
  }
 },
 "nbformat": 4,
 "nbformat_minor": 2
}
