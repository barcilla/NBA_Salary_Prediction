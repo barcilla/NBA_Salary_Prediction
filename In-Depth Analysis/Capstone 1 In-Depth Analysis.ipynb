{
 "cells": [
  {
   "cell_type": "code",
   "execution_count": 713,
   "metadata": {},
   "outputs": [],
   "source": [
    "import numpy as np\n",
    "import pandas as pd\n",
    "import matplotlib.pyplot as plt\n",
    "import seaborn as sns\n",
    "import timeit"
   ]
  },
  {
   "cell_type": "code",
   "execution_count": 714,
   "metadata": {},
   "outputs": [],
   "source": [
    "df = pd.read_csv('data/nba_dataset.csv')"
   ]
  },
  {
   "cell_type": "code",
   "execution_count": 715,
   "metadata": {},
   "outputs": [],
   "source": [
    "#OneHotEncode Positions and drop columns\n",
    "df = pd.concat([df, pd.get_dummies(df['Pos'])],axis=1)\n",
    "\n",
    "#Group my percentage ranges.\n",
    "group = pd.cut(df['%_of_cap'],[0,0.1,0.15,0.2,0.25,df['%_of_cap'].max()], \n",
    "               labels=['0-10%','10%-15%','15%-20%','20%-25%','25%<='])\n",
    "df['group']=group\n",
    "\n",
    "df.drop(['Pos', '%_of_cap'], axis=1, inplace=True)"
   ]
  },
  {
   "cell_type": "code",
   "execution_count": 716,
   "metadata": {},
   "outputs": [],
   "source": [
    "feature_names = ['Age', 'G', 'MP', 'PER', 'TS%', '3PAr', 'FTr', 'TRB%', 'AST%', 'STL%',\n",
    "                 'BLK%', 'TOV%', 'USG%', 'WS', 'BPM', 'C', 'PF', 'PG', 'SF', 'SG']\n",
    "\n",
    "X = np.array(df.iloc[:,0:20])\n",
    "y = np.array(df.group)"
   ]
  },
  {
   "cell_type": "code",
   "execution_count": 717,
   "metadata": {},
   "outputs": [],
   "source": [
    "from sklearn.model_selection import train_test_split, GridSearchCV, StratifiedKFold, cross_validate, cross_val_score\n",
    "from sklearn.preprocessing import MinMaxScaler\n",
    "from sklearn.metrics import confusion_matrix, classification_report, accuracy_score\n",
    "from sklearn.tree import DecisionTreeClassifier\n",
    "from sklearn.ensemble import RandomForestClassifier\n",
    "from sklearn.svm import SVC\n",
    "from sklearn.ensemble import AdaBoostClassifier\n",
    "import os\n",
    "os.environ['KMP_DUPLICATE_LIB_OK']='True'\n",
    "from xgboost import XGBClassifier\n",
    "from sklearn.pipeline import Pipeline\n",
    "\n",
    "#Create dictionary of classifiers to try\n",
    "classifiers = {'DecisionTree': DecisionTreeClassifier(random_state=34),  \n",
    "               'RandomForest': RandomForestClassifier(random_state=34), \n",
    "               'SVC': SVC(random_state=34),   \n",
    "               'AdaBoost': AdaBoostClassifier(random_state=34),\n",
    "               'XGBoost': XGBClassifier(random_state=34)}\n",
    "\n",
    "X_train, X_test, y_train, y_test = train_test_split(X, y, test_size = 0.25, random_state = 34)\n"
   ]
  },
  {
   "cell_type": "code",
   "execution_count": 744,
   "metadata": {},
   "outputs": [],
   "source": [
    "model_eval = pd.DataFrame({})\n",
    "for key, classifier in classifiers.items():\n",
    "    pipe = Pipeline(steps=[('minmax', MinMaxScaler()),\n",
    "                           ('classifier', classifier)])\n",
    "    kfold = KFold(n_splits=5, random_state=34)\n",
    "    scores = cross_validate(pipe, X_train, y_train, cv=kfold) #Use cross_val_score to get the mean of each fold and standard deviation\n",
    "    model_eval = model_eval.append({'classifier':key,    \n",
    "                                    'mean_fit_time':scores['fit_time'].mean(),\n",
    "                                    'mean_score_time':scores['score_time'].mean(),                       \n",
    "                                    'mean_test_score':scores['test_score'].mean(),\n",
    "                                    'std_test_score':scores['test_score'].std(),\n",
    "                                    'mean_train_score':scores['train_score'].mean(),\n",
    "                                    'std_train_score':scores['train_score'].mean()}, ignore_index=True)"
   ]
  },
  {
   "cell_type": "code",
   "execution_count": 814,
   "metadata": {
    "scrolled": true
   },
   "outputs": [
    {
     "data": {
      "text/html": [
       "<div>\n",
       "<style scoped>\n",
       "    .dataframe tbody tr th:only-of-type {\n",
       "        vertical-align: middle;\n",
       "    }\n",
       "\n",
       "    .dataframe tbody tr th {\n",
       "        vertical-align: top;\n",
       "    }\n",
       "\n",
       "    .dataframe thead th {\n",
       "        text-align: right;\n",
       "    }\n",
       "</style>\n",
       "<table border=\"1\" class=\"dataframe\">\n",
       "  <thead>\n",
       "    <tr style=\"text-align: right;\">\n",
       "      <th></th>\n",
       "      <th>classifier</th>\n",
       "      <th>mean_fit_time</th>\n",
       "      <th>mean_test_score</th>\n",
       "      <th>std_test_score</th>\n",
       "      <th>mean_train_score</th>\n",
       "    </tr>\n",
       "  </thead>\n",
       "  <tbody>\n",
       "    <tr>\n",
       "      <th>0</th>\n",
       "      <td>DecisionTree</td>\n",
       "      <td>0.095745</td>\n",
       "      <td>0.666398</td>\n",
       "      <td>0.007840</td>\n",
       "      <td>1.000000</td>\n",
       "    </tr>\n",
       "    <tr>\n",
       "      <th>1</th>\n",
       "      <td>RandomForest</td>\n",
       "      <td>0.174659</td>\n",
       "      <td>0.745540</td>\n",
       "      <td>0.009935</td>\n",
       "      <td>0.983501</td>\n",
       "    </tr>\n",
       "    <tr>\n",
       "      <th>2</th>\n",
       "      <td>SVC</td>\n",
       "      <td>1.227508</td>\n",
       "      <td>0.730651</td>\n",
       "      <td>0.011307</td>\n",
       "      <td>0.731388</td>\n",
       "    </tr>\n",
       "    <tr>\n",
       "      <th>3</th>\n",
       "      <td>AdaBoost</td>\n",
       "      <td>0.874373</td>\n",
       "      <td>0.747150</td>\n",
       "      <td>0.009784</td>\n",
       "      <td>0.758417</td>\n",
       "    </tr>\n",
       "    <tr>\n",
       "      <th>4</th>\n",
       "      <td>XGBoost</td>\n",
       "      <td>5.135772</td>\n",
       "      <td>0.758417</td>\n",
       "      <td>0.011314</td>\n",
       "      <td>0.793427</td>\n",
       "    </tr>\n",
       "  </tbody>\n",
       "</table>\n",
       "</div>"
      ],
      "text/plain": [
       "     classifier  mean_fit_time  mean_test_score  std_test_score  \\\n",
       "0  DecisionTree       0.095745         0.666398        0.007840   \n",
       "1  RandomForest       0.174659         0.745540        0.009935   \n",
       "2           SVC       1.227508         0.730651        0.011307   \n",
       "3      AdaBoost       0.874373         0.747150        0.009784   \n",
       "4       XGBoost       5.135772         0.758417        0.011314   \n",
       "\n",
       "   mean_train_score  \n",
       "0          1.000000  \n",
       "1          0.983501  \n",
       "2          0.731388  \n",
       "3          0.758417  \n",
       "4          0.793427  "
      ]
     },
     "execution_count": 814,
     "metadata": {},
     "output_type": "execute_result"
    }
   ],
   "source": [
    "model_eval[['classifier', 'mean_fit_time', 'mean_test_score', \n",
    "            'std_test_score', 'mean_train_score']]"
   ]
  },
  {
   "cell_type": "code",
   "execution_count": 873,
   "metadata": {},
   "outputs": [],
   "source": [
    "classifiers_opt = {'RandomForest': RandomForestClassifier(random_state=34),             \n",
    "                   'AdaBoost': AdaBoostClassifier(random_state=34)}\n",
    "model_eval2 = pd.DataFrame({})\n",
    "\n",
    "for key, classifier in classifiers_opt.items():\n",
    "    model_def = Pipeline(steps=[('minmax', MinMaxScaler()),                          \n",
    "                                ('classifier', classifier)])\n",
    "    model_def.fit(X_train, y_train)\n",
    "    model_eval2 = model_eval2.append({'classifier':key,    \n",
    "                                    'accuracy_score':model_def.score(X_test, y_test),\n",
    "                                     'cm':confusion_matrix(y_test,model_def.predict(X_test)),\n",
    "                                     'class_report': classification_report(y_test,model_def.predict(X_test),output_dict=True)}, ignore_index=True)"
   ]
  },
  {
   "cell_type": "code",
   "execution_count": 905,
   "metadata": {
    "scrolled": true
   },
   "outputs": [
    {
     "data": {
      "text/html": [
       "<div>\n",
       "<style scoped>\n",
       "    .dataframe tbody tr th:only-of-type {\n",
       "        vertical-align: middle;\n",
       "    }\n",
       "\n",
       "    .dataframe tbody tr th {\n",
       "        vertical-align: top;\n",
       "    }\n",
       "\n",
       "    .dataframe thead th {\n",
       "        text-align: right;\n",
       "    }\n",
       "</style>\n",
       "<table border=\"1\" class=\"dataframe\">\n",
       "  <thead>\n",
       "    <tr style=\"text-align: right;\">\n",
       "      <th></th>\n",
       "      <th>classifier</th>\n",
       "      <th>accuracy_score</th>\n",
       "    </tr>\n",
       "  </thead>\n",
       "  <tbody>\n",
       "    <tr>\n",
       "      <th>0</th>\n",
       "      <td>RandomForest</td>\n",
       "      <td>0.757344</td>\n",
       "    </tr>\n",
       "    <tr>\n",
       "      <th>1</th>\n",
       "      <td>AdaBoost</td>\n",
       "      <td>0.755332</td>\n",
       "    </tr>\n",
       "  </tbody>\n",
       "</table>\n",
       "</div>"
      ],
      "text/plain": [
       "     classifier  accuracy_score\n",
       "0  RandomForest        0.757344\n",
       "1      AdaBoost        0.755332"
      ]
     },
     "execution_count": 905,
     "metadata": {},
     "output_type": "execute_result"
    }
   ],
   "source": [
    "model_eval2[['classifier', 'accuracy_score']]"
   ]
  },
  {
   "cell_type": "code",
   "execution_count": 903,
   "metadata": {},
   "outputs": [],
   "source": [
    "#Unpacking Classification Report\n",
    "metrics = pd.DataFrame({})\n",
    "\n",
    "classification_report = model_eval2[['classifier',                                          \n",
    "                                     'class_report']].set_index('classifier').to_dict()\n",
    "\n",
    "for key_1, val_1 in classification_report.items():\n",
    "    for key_2, val_2 in val_1.items():\n",
    "        for key_3, val_3 in val_2.items():\n",
    "            for key_4, val_4 in val_3.items():\n",
    "                metrics = metrics.append({'classifier':key_2,                                  \n",
    "                                          'group':key_3,                                  \n",
    "                                         'metric':key_4, \n",
    "                                         'value':val_4},ignore_index=True)\n",
    "\n",
    "#Create pivot table of classification table\n",
    "classification_table = pd.pivot_table(metrics,                        \n",
    "                                      values='value',                      \n",
    "                                      index=['classifier', 'metric'],                      \n",
    "                                     columns='group')"
   ]
  },
  {
   "cell_type": "code",
   "execution_count": 904,
   "metadata": {},
   "outputs": [
    {
     "data": {
      "text/html": [
       "<div>\n",
       "<style scoped>\n",
       "    .dataframe tbody tr th:only-of-type {\n",
       "        vertical-align: middle;\n",
       "    }\n",
       "\n",
       "    .dataframe tbody tr th {\n",
       "        vertical-align: top;\n",
       "    }\n",
       "\n",
       "    .dataframe thead th {\n",
       "        text-align: right;\n",
       "    }\n",
       "</style>\n",
       "<table border=\"1\" class=\"dataframe\">\n",
       "  <thead>\n",
       "    <tr style=\"text-align: right;\">\n",
       "      <th></th>\n",
       "      <th>group</th>\n",
       "      <th>0-10%</th>\n",
       "      <th>10%-15%</th>\n",
       "      <th>15%-20%</th>\n",
       "      <th>20%-25%</th>\n",
       "      <th>25%&lt;=</th>\n",
       "      <th>macro avg</th>\n",
       "      <th>micro avg</th>\n",
       "      <th>weighted avg</th>\n",
       "    </tr>\n",
       "    <tr>\n",
       "      <th>classifier</th>\n",
       "      <th>metric</th>\n",
       "      <th></th>\n",
       "      <th></th>\n",
       "      <th></th>\n",
       "      <th></th>\n",
       "      <th></th>\n",
       "      <th></th>\n",
       "      <th></th>\n",
       "      <th></th>\n",
       "    </tr>\n",
       "  </thead>\n",
       "  <tbody>\n",
       "    <tr>\n",
       "      <th rowspan=\"4\" valign=\"top\">AdaBoost</th>\n",
       "      <th>f1-score</th>\n",
       "      <td>0.893530</td>\n",
       "      <td>0.182278</td>\n",
       "      <td>0.091837</td>\n",
       "      <td>0.105960</td>\n",
       "      <td>0.463576</td>\n",
       "      <td>0.347436</td>\n",
       "      <td>0.755332</td>\n",
       "      <td>0.710217</td>\n",
       "    </tr>\n",
       "    <tr>\n",
       "      <th>precision</th>\n",
       "      <td>0.833650</td>\n",
       "      <td>0.262774</td>\n",
       "      <td>0.360000</td>\n",
       "      <td>0.145455</td>\n",
       "      <td>0.426829</td>\n",
       "      <td>0.405742</td>\n",
       "      <td>0.755332</td>\n",
       "      <td>0.692609</td>\n",
       "    </tr>\n",
       "    <tr>\n",
       "      <th>recall</th>\n",
       "      <td>0.962678</td>\n",
       "      <td>0.139535</td>\n",
       "      <td>0.052632</td>\n",
       "      <td>0.083333</td>\n",
       "      <td>0.507246</td>\n",
       "      <td>0.349085</td>\n",
       "      <td>0.755332</td>\n",
       "      <td>0.755332</td>\n",
       "    </tr>\n",
       "    <tr>\n",
       "      <th>support</th>\n",
       "      <td>1822.000000</td>\n",
       "      <td>258.000000</td>\n",
       "      <td>171.000000</td>\n",
       "      <td>96.000000</td>\n",
       "      <td>138.000000</td>\n",
       "      <td>2485.000000</td>\n",
       "      <td>2485.000000</td>\n",
       "      <td>2485.000000</td>\n",
       "    </tr>\n",
       "    <tr>\n",
       "      <th rowspan=\"4\" valign=\"top\">RandomForest</th>\n",
       "      <th>f1-score</th>\n",
       "      <td>0.890909</td>\n",
       "      <td>0.188586</td>\n",
       "      <td>0.129870</td>\n",
       "      <td>0.165414</td>\n",
       "      <td>0.444444</td>\n",
       "      <td>0.363845</td>\n",
       "      <td>0.757344</td>\n",
       "      <td>0.712802</td>\n",
       "    </tr>\n",
       "    <tr>\n",
       "      <th>precision</th>\n",
       "      <td>0.825070</td>\n",
       "      <td>0.262069</td>\n",
       "      <td>0.250000</td>\n",
       "      <td>0.297297</td>\n",
       "      <td>0.514286</td>\n",
       "      <td>0.429744</td>\n",
       "      <td>0.757344</td>\n",
       "      <td>0.689398</td>\n",
       "    </tr>\n",
       "    <tr>\n",
       "      <th>recall</th>\n",
       "      <td>0.968167</td>\n",
       "      <td>0.147287</td>\n",
       "      <td>0.087719</td>\n",
       "      <td>0.114583</td>\n",
       "      <td>0.391304</td>\n",
       "      <td>0.341812</td>\n",
       "      <td>0.757344</td>\n",
       "      <td>0.757344</td>\n",
       "    </tr>\n",
       "    <tr>\n",
       "      <th>support</th>\n",
       "      <td>1822.000000</td>\n",
       "      <td>258.000000</td>\n",
       "      <td>171.000000</td>\n",
       "      <td>96.000000</td>\n",
       "      <td>138.000000</td>\n",
       "      <td>2485.000000</td>\n",
       "      <td>2485.000000</td>\n",
       "      <td>2485.000000</td>\n",
       "    </tr>\n",
       "  </tbody>\n",
       "</table>\n",
       "</div>"
      ],
      "text/plain": [
       "group                         0-10%     10%-15%     15%-20%    20%-25%  \\\n",
       "classifier   metric                                                      \n",
       "AdaBoost     f1-score      0.893530    0.182278    0.091837   0.105960   \n",
       "             precision     0.833650    0.262774    0.360000   0.145455   \n",
       "             recall        0.962678    0.139535    0.052632   0.083333   \n",
       "             support    1822.000000  258.000000  171.000000  96.000000   \n",
       "RandomForest f1-score      0.890909    0.188586    0.129870   0.165414   \n",
       "             precision     0.825070    0.262069    0.250000   0.297297   \n",
       "             recall        0.968167    0.147287    0.087719   0.114583   \n",
       "             support    1822.000000  258.000000  171.000000  96.000000   \n",
       "\n",
       "group                        25%<=    macro avg    micro avg  weighted avg  \n",
       "classifier   metric                                                         \n",
       "AdaBoost     f1-score     0.463576     0.347436     0.755332      0.710217  \n",
       "             precision    0.426829     0.405742     0.755332      0.692609  \n",
       "             recall       0.507246     0.349085     0.755332      0.755332  \n",
       "             support    138.000000  2485.000000  2485.000000   2485.000000  \n",
       "RandomForest f1-score     0.444444     0.363845     0.757344      0.712802  \n",
       "             precision    0.514286     0.429744     0.757344      0.689398  \n",
       "             recall       0.391304     0.341812     0.757344      0.757344  \n",
       "             support    138.000000  2485.000000  2485.000000   2485.000000  "
      ]
     },
     "execution_count": 904,
     "metadata": {},
     "output_type": "execute_result"
    }
   ],
   "source": [
    "classification_table"
   ]
  },
  {
   "cell_type": "markdown",
   "metadata": {},
   "source": [
    "Hyperparameter Tuning\n",
    "\n",
    "Will begin with using GridSearch for AdaBoost Classifier"
   ]
  },
  {
   "cell_type": "code",
   "execution_count": 887,
   "metadata": {},
   "outputs": [
    {
     "data": {
      "text/plain": [
       "Pipeline(memory=None,\n",
       "     steps=[('minmax', MinMaxScaler(copy=True, feature_range=(0, 1))), ('grid', GridSearchCV(cv=KFold(n_splits=5, random_state=34, shuffle=False),\n",
       "       error_score='raise-deprecating',\n",
       "       estimator=AdaBoostClassifier(algorithm='SAMME.R', base_estimator=None,\n",
       "          learning_rate=1.0, n_estimator...   pre_dispatch='2*n_jobs', refit=True, return_train_score='warn',\n",
       "       scoring=None, verbose=0))])"
      ]
     },
     "execution_count": 887,
     "metadata": {},
     "output_type": "execute_result"
    }
   ],
   "source": [
    "param_grid_ada = {'learning_rate':[.001, .01, .1],                                \n",
    "                  'n_estimators':[500, 1000, 2000],                                                   \n",
    "                  'random_state':[34]}\n",
    "\n",
    "kfold = KFold(n_splits=5, random_state=34)\n",
    "grid = GridSearchCV(AdaBoostClassifier(), param_grid = param_grid_ada ,cv=kfold)\n",
    "\n",
    "pipe_ada = Pipeline(steps = [('minmax', MinMaxScaler()),\n",
    "                            ('grid', grid)])\n",
    "pipe_ada.fit(X_train, y_train)\n",
    "\n",
    "#grid = grid.fit(X_train, y_train)\n"
   ]
  },
  {
   "cell_type": "code",
   "execution_count": 893,
   "metadata": {},
   "outputs": [
    {
     "name": "stdout",
     "output_type": "stream",
     "text": [
      "Model Accuracy:  0.7637826961770624\n",
      "Training Score:  0.7691482226693495\n",
      "Best Parameters:  {'learning_rate': 0.1, 'n_estimators': 1000, 'random_state': 34}\n"
     ]
    }
   ],
   "source": [
    "ada_predict = pipe_ada.predict(X_test)\n",
    "print('Model Accuracy: ', accuracy_score(y_test, ada_predict))\n",
    "print('Training Score: ' , pipe_ada.score(X_train, y_train))\n",
    "print('Best Parameters: ', pipe_ada.steps[1][1].best_params_)"
   ]
  },
  {
   "cell_type": "code",
   "execution_count": 895,
   "metadata": {
    "scrolled": false
   },
   "outputs": [
    {
     "name": "stdout",
     "output_type": "stream",
     "text": [
      "[[1762   33    2   11   14]\n",
      " [ 192   39    8    4   15]\n",
      " [  84   38   11   10   28]\n",
      " [  36   15    9   14   22]\n",
      " [  18   23    6   19   72]]\n"
     ]
    }
   ],
   "source": [
    "print(confusion_matrix(y_test, ada_predict))"
   ]
  },
  {
   "cell_type": "code",
   "execution_count": 894,
   "metadata": {
    "scrolled": true
   },
   "outputs": [
    {
     "name": "stdout",
     "output_type": "stream",
     "text": [
      "              precision    recall  f1-score   support\n",
      "\n",
      "       0-10%       0.84      0.97      0.90      1822\n",
      "     10%-15%       0.26      0.15      0.19       258\n",
      "     15%-20%       0.31      0.06      0.11       171\n",
      "     20%-25%       0.24      0.15      0.18        96\n",
      "       25%<=       0.48      0.52      0.50       138\n",
      "\n",
      "   micro avg       0.76      0.76      0.76      2485\n",
      "   macro avg       0.43      0.37      0.38      2485\n",
      "weighted avg       0.70      0.76      0.72      2485\n",
      "\n"
     ]
    }
   ],
   "source": [
    "print(classification_report(y_test, ada_predict))"
   ]
  },
  {
   "cell_type": "code",
   "execution_count": 897,
   "metadata": {
    "scrolled": true
   },
   "outputs": [
    {
     "data": {
      "text/html": [
       "<div>\n",
       "<style scoped>\n",
       "    .dataframe tbody tr th:only-of-type {\n",
       "        vertical-align: middle;\n",
       "    }\n",
       "\n",
       "    .dataframe tbody tr th {\n",
       "        vertical-align: top;\n",
       "    }\n",
       "\n",
       "    .dataframe thead th {\n",
       "        text-align: right;\n",
       "    }\n",
       "</style>\n",
       "<table border=\"1\" class=\"dataframe\">\n",
       "  <thead>\n",
       "    <tr style=\"text-align: right;\">\n",
       "      <th></th>\n",
       "      <th>weight</th>\n",
       "    </tr>\n",
       "    <tr>\n",
       "      <th>feature</th>\n",
       "      <th></th>\n",
       "    </tr>\n",
       "  </thead>\n",
       "  <tbody>\n",
       "    <tr>\n",
       "      <th>MP</th>\n",
       "      <td>0.162</td>\n",
       "    </tr>\n",
       "    <tr>\n",
       "      <th>G</th>\n",
       "      <td>0.139</td>\n",
       "    </tr>\n",
       "    <tr>\n",
       "      <th>Age</th>\n",
       "      <td>0.117</td>\n",
       "    </tr>\n",
       "    <tr>\n",
       "      <th>TS%</th>\n",
       "      <td>0.078</td>\n",
       "    </tr>\n",
       "    <tr>\n",
       "      <th>TRB%</th>\n",
       "      <td>0.078</td>\n",
       "    </tr>\n",
       "    <tr>\n",
       "      <th>BPM</th>\n",
       "      <td>0.067</td>\n",
       "    </tr>\n",
       "    <tr>\n",
       "      <th>USG%</th>\n",
       "      <td>0.066</td>\n",
       "    </tr>\n",
       "    <tr>\n",
       "      <th>FTr</th>\n",
       "      <td>0.054</td>\n",
       "    </tr>\n",
       "    <tr>\n",
       "      <th>TOV%</th>\n",
       "      <td>0.050</td>\n",
       "    </tr>\n",
       "    <tr>\n",
       "      <th>PER</th>\n",
       "      <td>0.039</td>\n",
       "    </tr>\n",
       "    <tr>\n",
       "      <th>STL%</th>\n",
       "      <td>0.039</td>\n",
       "    </tr>\n",
       "    <tr>\n",
       "      <th>AST%</th>\n",
       "      <td>0.038</td>\n",
       "    </tr>\n",
       "    <tr>\n",
       "      <th>BLK%</th>\n",
       "      <td>0.036</td>\n",
       "    </tr>\n",
       "    <tr>\n",
       "      <th>WS</th>\n",
       "      <td>0.020</td>\n",
       "    </tr>\n",
       "    <tr>\n",
       "      <th>3PAr</th>\n",
       "      <td>0.015</td>\n",
       "    </tr>\n",
       "    <tr>\n",
       "      <th>PF</th>\n",
       "      <td>0.002</td>\n",
       "    </tr>\n",
       "    <tr>\n",
       "      <th>C</th>\n",
       "      <td>0.000</td>\n",
       "    </tr>\n",
       "    <tr>\n",
       "      <th>PG</th>\n",
       "      <td>0.000</td>\n",
       "    </tr>\n",
       "    <tr>\n",
       "      <th>SF</th>\n",
       "      <td>0.000</td>\n",
       "    </tr>\n",
       "    <tr>\n",
       "      <th>SG</th>\n",
       "      <td>0.000</td>\n",
       "    </tr>\n",
       "  </tbody>\n",
       "</table>\n",
       "</div>"
      ],
      "text/plain": [
       "         weight\n",
       "feature        \n",
       "MP        0.162\n",
       "G         0.139\n",
       "Age       0.117\n",
       "TS%       0.078\n",
       "TRB%      0.078\n",
       "BPM       0.067\n",
       "USG%      0.066\n",
       "FTr       0.054\n",
       "TOV%      0.050\n",
       "PER       0.039\n",
       "STL%      0.039\n",
       "AST%      0.038\n",
       "BLK%      0.036\n",
       "WS        0.020\n",
       "3PAr      0.015\n",
       "PF        0.002\n",
       "C         0.000\n",
       "PG        0.000\n",
       "SF        0.000\n",
       "SG        0.000"
      ]
     },
     "execution_count": 897,
     "metadata": {},
     "output_type": "execute_result"
    }
   ],
   "source": [
    "features_ada = pd.DataFrame()\n",
    "features_ada['feature'] = feature_names\n",
    "features_ada['weight'] = pipe_ada.steps[1][1].best_estimator_.feature_importances_\n",
    "features_ada.set_index('feature').sort_values('weight', ascending=False)"
   ]
  },
  {
   "cell_type": "code",
   "execution_count": null,
   "metadata": {},
   "outputs": [],
   "source": []
  },
  {
   "cell_type": "code",
   "execution_count": 898,
   "metadata": {},
   "outputs": [
    {
     "data": {
      "text/plain": [
       "Pipeline(memory=None,\n",
       "     steps=[('minmax', MinMaxScaler(copy=True, feature_range=(0, 1))), ('grid_rf', GridSearchCV(cv=KFold(n_splits=5, random_state=34, shuffle=False),\n",
       "       error_score='raise-deprecating',\n",
       "       estimator=RandomForestClassifier(bootstrap=True, class_weight=None, criterion='gini',\n",
       "            max_depth=...   pre_dispatch='2*n_jobs', refit=True, return_train_score='warn',\n",
       "       scoring=None, verbose=0))])"
      ]
     },
     "execution_count": 898,
     "metadata": {},
     "output_type": "execute_result"
    }
   ],
   "source": [
    "param_grid_rf = {'max_features':['auto', 'sqrt', 'log2'],                                  \n",
    "                 'n_estimators':[500, 1000, 2000],  \n",
    "                 'max_depth':[2, 3, 5, 8],\n",
    "                 'random_state':[34]}\n",
    "\n",
    "kfold = KFold(n_splits=5, random_state=34)\n",
    "grid_rf = GridSearchCV(RandomForestClassifier(), param_grid = param_grid_rf ,cv=kfold)\n",
    "\n",
    "pipe_rf = Pipeline(steps = [('minmax', MinMaxScaler()),\n",
    "                            ('grid_rf', grid_rf)])\n",
    "pipe_rf.fit(X_train, y_train)"
   ]
  },
  {
   "cell_type": "code",
   "execution_count": 899,
   "metadata": {},
   "outputs": [
    {
     "name": "stdout",
     "output_type": "stream",
     "text": [
      "Model Accuracy:  0.7625754527162978\n",
      "Training Score:  0.794634473507713\n",
      "Best Parameters:  {'max_depth': 8, 'max_features': 'auto', 'n_estimators': 2000, 'random_state': 34}\n"
     ]
    }
   ],
   "source": [
    "rf_predict = pipe_rf.predict(X_test)\n",
    "\n",
    "print('Model Accuracy: ', accuracy_score(y_test, rf_predict))\n",
    "print('Training Score: ' , pipe_rf.score(X_train, y_train))\n",
    "print('Best Parameters: ', pipe_rf.steps[1][1].best_params_)"
   ]
  },
  {
   "cell_type": "code",
   "execution_count": 859,
   "metadata": {
    "scrolled": true
   },
   "outputs": [
    {
     "name": "stdout",
     "output_type": "stream",
     "text": [
      "[[1803    6    1    1   11]\n",
      " [ 226   16    5    0   11]\n",
      " [ 126   10    4    1   30]\n",
      " [  63    5    0    0   28]\n",
      " [  50   10    5    1   72]]\n"
     ]
    }
   ],
   "source": [
    "print(confusion_matrix(y_test, rf_predict))"
   ]
  },
  {
   "cell_type": "code",
   "execution_count": 858,
   "metadata": {},
   "outputs": [
    {
     "name": "stdout",
     "output_type": "stream",
     "text": [
      "              precision    recall  f1-score   support\n",
      "\n",
      "       0-10%       0.79      0.99      0.88      1822\n",
      "     10%-15%       0.34      0.06      0.10       258\n",
      "     15%-20%       0.27      0.02      0.04       171\n",
      "     20%-25%       0.00      0.00      0.00        96\n",
      "       25%<=       0.47      0.52      0.50       138\n",
      "\n",
      "   micro avg       0.76      0.76      0.76      2485\n",
      "   macro avg       0.38      0.32      0.31      2485\n",
      "weighted avg       0.66      0.76      0.69      2485\n",
      "\n"
     ]
    }
   ],
   "source": [
    "print(classification_report(y_test, rf_predict))"
   ]
  },
  {
   "cell_type": "code",
   "execution_count": 826,
   "metadata": {},
   "outputs": [
    {
     "data": {
      "text/html": [
       "<div>\n",
       "<style scoped>\n",
       "    .dataframe tbody tr th:only-of-type {\n",
       "        vertical-align: middle;\n",
       "    }\n",
       "\n",
       "    .dataframe tbody tr th {\n",
       "        vertical-align: top;\n",
       "    }\n",
       "\n",
       "    .dataframe thead th {\n",
       "        text-align: right;\n",
       "    }\n",
       "</style>\n",
       "<table border=\"1\" class=\"dataframe\">\n",
       "  <thead>\n",
       "    <tr style=\"text-align: right;\">\n",
       "      <th></th>\n",
       "      <th>weight</th>\n",
       "    </tr>\n",
       "    <tr>\n",
       "      <th>feature</th>\n",
       "      <th></th>\n",
       "    </tr>\n",
       "  </thead>\n",
       "  <tbody>\n",
       "    <tr>\n",
       "      <th>Age</th>\n",
       "      <td>0.179548</td>\n",
       "    </tr>\n",
       "    <tr>\n",
       "      <th>WS</th>\n",
       "      <td>0.131209</td>\n",
       "    </tr>\n",
       "    <tr>\n",
       "      <th>MP</th>\n",
       "      <td>0.129975</td>\n",
       "    </tr>\n",
       "    <tr>\n",
       "      <th>PER</th>\n",
       "      <td>0.099521</td>\n",
       "    </tr>\n",
       "    <tr>\n",
       "      <th>USG%</th>\n",
       "      <td>0.081938</td>\n",
       "    </tr>\n",
       "    <tr>\n",
       "      <th>BPM</th>\n",
       "      <td>0.077241</td>\n",
       "    </tr>\n",
       "    <tr>\n",
       "      <th>G</th>\n",
       "      <td>0.046788</td>\n",
       "    </tr>\n",
       "    <tr>\n",
       "      <th>TS%</th>\n",
       "      <td>0.036189</td>\n",
       "    </tr>\n",
       "    <tr>\n",
       "      <th>TRB%</th>\n",
       "      <td>0.036059</td>\n",
       "    </tr>\n",
       "    <tr>\n",
       "      <th>AST%</th>\n",
       "      <td>0.034827</td>\n",
       "    </tr>\n",
       "    <tr>\n",
       "      <th>BLK%</th>\n",
       "      <td>0.029160</td>\n",
       "    </tr>\n",
       "    <tr>\n",
       "      <th>3PAr</th>\n",
       "      <td>0.028545</td>\n",
       "    </tr>\n",
       "    <tr>\n",
       "      <th>FTr</th>\n",
       "      <td>0.028201</td>\n",
       "    </tr>\n",
       "    <tr>\n",
       "      <th>TOV%</th>\n",
       "      <td>0.024233</td>\n",
       "    </tr>\n",
       "    <tr>\n",
       "      <th>STL%</th>\n",
       "      <td>0.021575</td>\n",
       "    </tr>\n",
       "    <tr>\n",
       "      <th>C</th>\n",
       "      <td>0.003667</td>\n",
       "    </tr>\n",
       "    <tr>\n",
       "      <th>PF</th>\n",
       "      <td>0.003572</td>\n",
       "    </tr>\n",
       "    <tr>\n",
       "      <th>SF</th>\n",
       "      <td>0.003000</td>\n",
       "    </tr>\n",
       "    <tr>\n",
       "      <th>PG</th>\n",
       "      <td>0.002753</td>\n",
       "    </tr>\n",
       "    <tr>\n",
       "      <th>SG</th>\n",
       "      <td>0.002000</td>\n",
       "    </tr>\n",
       "  </tbody>\n",
       "</table>\n",
       "</div>"
      ],
      "text/plain": [
       "           weight\n",
       "feature          \n",
       "Age      0.179548\n",
       "WS       0.131209\n",
       "MP       0.129975\n",
       "PER      0.099521\n",
       "USG%     0.081938\n",
       "BPM      0.077241\n",
       "G        0.046788\n",
       "TS%      0.036189\n",
       "TRB%     0.036059\n",
       "AST%     0.034827\n",
       "BLK%     0.029160\n",
       "3PAr     0.028545\n",
       "FTr      0.028201\n",
       "TOV%     0.024233\n",
       "STL%     0.021575\n",
       "C        0.003667\n",
       "PF       0.003572\n",
       "SF       0.003000\n",
       "PG       0.002753\n",
       "SG       0.002000"
      ]
     },
     "execution_count": 826,
     "metadata": {},
     "output_type": "execute_result"
    }
   ],
   "source": [
    "features_rf = pd.DataFrame()\n",
    "features_rf['feature'] = feature_names\n",
    "features_rf['weight'] = grid_rf.best_estimator_.feature_importances_\n",
    "features_rf.set_index('feature').sort_values('weight', ascending=False)"
   ]
  },
  {
   "cell_type": "code",
   "execution_count": null,
   "metadata": {},
   "outputs": [],
   "source": []
  },
  {
   "cell_type": "code",
   "execution_count": null,
   "metadata": {},
   "outputs": [],
   "source": []
  },
  {
   "cell_type": "code",
   "execution_count": 695,
   "metadata": {
    "scrolled": false
   },
   "outputs": [],
   "source": [
    "from keras import Sequential\n",
    "from keras.layers import Dense\n",
    "from keras.utils import to_categorical\n",
    "from keras.models import load_model"
   ]
  },
  {
   "cell_type": "code",
   "execution_count": 696,
   "metadata": {
    "scrolled": true
   },
   "outputs": [],
   "source": [
    "n_cols = X.shape[1]\n",
    "\n",
    "y_train = pd.get_dummies(y_train)\n",
    "\n",
    "from keras.callbacks import EarlyStopping\n",
    "\n",
    "early_stopping_monitor = EarlyStopping(patience=2)"
   ]
  },
  {
   "cell_type": "code",
   "execution_count": 717,
   "metadata": {},
   "outputs": [
    {
     "name": "stdout",
     "output_type": "stream",
     "text": [
      "Train on 5218 samples, validate on 2237 samples\n",
      "Epoch 1/50\n",
      "5218/5218 [==============================] - 3s 530us/step - loss: 1.1288 - accuracy: 0.6351 - val_loss: 0.9708 - val_accuracy: 0.6616\n",
      "Epoch 2/50\n",
      "5218/5218 [==============================] - 1s 237us/step - loss: 0.9157 - accuracy: 0.6525 - val_loss: 0.8725 - val_accuracy: 0.6661\n",
      "Epoch 3/50\n",
      "5218/5218 [==============================] - 1s 218us/step - loss: 0.8392 - accuracy: 0.6669 - val_loss: 0.8247 - val_accuracy: 0.6661\n",
      "Epoch 4/50\n",
      "5218/5218 [==============================] - 2s 334us/step - loss: 0.7981 - accuracy: 0.6767 - val_loss: 0.7997 - val_accuracy: 0.6732\n",
      "Epoch 5/50\n",
      "5218/5218 [==============================] - 2s 329us/step - loss: 0.7760 - accuracy: 0.6823 - val_loss: 0.7786 - val_accuracy: 0.6844\n",
      "Epoch 6/50\n",
      "5218/5218 [==============================] - 1s 252us/step - loss: 0.7622 - accuracy: 0.6832 - val_loss: 0.7614 - val_accuracy: 0.6857\n",
      "Epoch 7/50\n",
      "5218/5218 [==============================] - 1s 231us/step - loss: 0.7517 - accuracy: 0.6872 - val_loss: 0.7539 - val_accuracy: 0.6916\n",
      "Epoch 8/50\n",
      "5218/5218 [==============================] - 1s 230us/step - loss: 0.7422 - accuracy: 0.6832 - val_loss: 0.7428 - val_accuracy: 0.6902\n",
      "Epoch 9/50\n",
      "5218/5218 [==============================] - 1s 214us/step - loss: 0.7332 - accuracy: 0.6934 - val_loss: 0.7344 - val_accuracy: 0.6987\n",
      "Epoch 10/50\n",
      "5218/5218 [==============================] - 1s 215us/step - loss: 0.7290 - accuracy: 0.6909 - val_loss: 0.7322 - val_accuracy: 0.6987\n",
      "Epoch 11/50\n",
      "5218/5218 [==============================] - 1s 218us/step - loss: 0.7223 - accuracy: 0.6945 - val_loss: 0.7268 - val_accuracy: 0.6983\n",
      "Epoch 12/50\n",
      "5218/5218 [==============================] - 2s 329us/step - loss: 0.7164 - accuracy: 0.6997 - val_loss: 0.7191 - val_accuracy: 0.7018\n",
      "Epoch 13/50\n",
      "5218/5218 [==============================] - 2s 325us/step - loss: 0.7123 - accuracy: 0.6991 - val_loss: 0.7151 - val_accuracy: 0.7023\n",
      "Epoch 14/50\n",
      "5218/5218 [==============================] - 1s 223us/step - loss: 0.7081 - accuracy: 0.7024 - val_loss: 0.7172 - val_accuracy: 0.7000\n",
      "Epoch 15/50\n",
      "5218/5218 [==============================] - 1s 221us/step - loss: 0.7039 - accuracy: 0.7047 - val_loss: 0.7124 - val_accuracy: 0.7063\n",
      "Epoch 16/50\n",
      "5218/5218 [==============================] - 1s 219us/step - loss: 0.7025 - accuracy: 0.7016 - val_loss: 0.7231 - val_accuracy: 0.6992\n",
      "Epoch 17/50\n",
      "5218/5218 [==============================] - 1s 211us/step - loss: 0.6991 - accuracy: 0.7047 - val_loss: 0.7079 - val_accuracy: 0.7036\n",
      "Epoch 18/50\n",
      "5218/5218 [==============================] - 1s 219us/step - loss: 0.6967 - accuracy: 0.7077 - val_loss: 0.7085 - val_accuracy: 0.7018\n",
      "Epoch 19/50\n",
      "5218/5218 [==============================] - 1s 230us/step - loss: 0.6939 - accuracy: 0.7087 - val_loss: 0.7082 - val_accuracy: 0.7036\n"
     ]
    },
    {
     "data": {
      "text/plain": [
       "<keras.callbacks.callbacks.History at 0x1abb5a0978>"
      ]
     },
     "execution_count": 717,
     "metadata": {},
     "output_type": "execute_result"
    }
   ],
   "source": [
    "model_1 = Sequential()\n",
    "\n",
    "model_1.add(Dense(21, activation='relu', input_shape=(n_cols,)))\n",
    "\n",
    "model_1.add(Dense(21, activation='relu'))\n",
    "\n",
    "model_1.add(Dense(5, activation='softmax'))\n",
    "\n",
    "model_1.compile(optimizer='adam', loss='categorical_crossentropy', metrics=['accuracy'])\n",
    "\n",
    "model_1.fit(X_train, y_train, validation_split=0.3,\n",
    "        epochs=50, callbacks=[early_stopping_monitor])"
   ]
  },
  {
   "cell_type": "code",
   "execution_count": 718,
   "metadata": {
    "scrolled": true
   },
   "outputs": [],
   "source": [
    "model_1.save('model_1.h5')"
   ]
  },
  {
   "cell_type": "code",
   "execution_count": 720,
   "metadata": {},
   "outputs": [
    {
     "name": "stdout",
     "output_type": "stream",
     "text": [
      "Accuracy for NN: Model_1: 5.96%\n"
     ]
    }
   ],
   "source": [
    "load_1 = load_model('model_1.h5')\n",
    "\n",
    "y_prediction = load_1.predict(X_test)\n",
    "\n",
    "#Converting predictions to label\n",
    "pred = list()\n",
    "for i in range(len(y_prediction)):\n",
    "    pred.append(np.argmax(y_prediction[i]))\n",
    "    \n",
    "print('Accuracy for NN: Model_1: %.2f%%' % (accuracy_score(pred,y_test)*100))"
   ]
  },
  {
   "cell_type": "code",
   "execution_count": 721,
   "metadata": {},
   "outputs": [
    {
     "name": "stdout",
     "output_type": "stream",
     "text": [
      "Train on 5218 samples, validate on 2237 samples\n",
      "Epoch 1/50\n",
      "5218/5218 [==============================] - 4s 795us/step - loss: 1.3229 - accuracy: 0.5711 - val_loss: 1.0696 - val_accuracy: 0.6616\n",
      "Epoch 2/50\n",
      "5218/5218 [==============================] - 1s 269us/step - loss: 1.0315 - accuracy: 0.6504 - val_loss: 0.9997 - val_accuracy: 0.6616\n",
      "Epoch 3/50\n",
      "5218/5218 [==============================] - 1s 224us/step - loss: 0.9692 - accuracy: 0.6504 - val_loss: 0.9409 - val_accuracy: 0.6616\n",
      "Epoch 4/50\n",
      "5218/5218 [==============================] - 1s 260us/step - loss: 0.9144 - accuracy: 0.6531 - val_loss: 0.8899 - val_accuracy: 0.6719\n",
      "Epoch 5/50\n",
      "5218/5218 [==============================] - 1s 260us/step - loss: 0.8666 - accuracy: 0.6658 - val_loss: 0.8541 - val_accuracy: 0.6674\n",
      "Epoch 6/50\n",
      "5218/5218 [==============================] - 2s 346us/step - loss: 0.8350 - accuracy: 0.6738 - val_loss: 0.8335 - val_accuracy: 0.6764\n",
      "Epoch 7/50\n",
      "5218/5218 [==============================] - 2s 351us/step - loss: 0.8136 - accuracy: 0.6740 - val_loss: 0.8115 - val_accuracy: 0.6768\n",
      "Epoch 8/50\n",
      "5218/5218 [==============================] - 1s 238us/step - loss: 0.7970 - accuracy: 0.6792 - val_loss: 0.7981 - val_accuracy: 0.6768\n",
      "Epoch 9/50\n",
      "5218/5218 [==============================] - 2s 310us/step - loss: 0.7850 - accuracy: 0.6786 - val_loss: 0.7851 - val_accuracy: 0.6777\n",
      "Epoch 10/50\n",
      "5218/5218 [==============================] - 2s 407us/step - loss: 0.7739 - accuracy: 0.6821 - val_loss: 0.7778 - val_accuracy: 0.6822\n",
      "Epoch 11/50\n",
      "5218/5218 [==============================] - 2s 353us/step - loss: 0.7666 - accuracy: 0.6840 - val_loss: 0.7684 - val_accuracy: 0.6840\n",
      "Epoch 12/50\n",
      "5218/5218 [==============================] - 2s 410us/step - loss: 0.7576 - accuracy: 0.6844 - val_loss: 0.7623 - val_accuracy: 0.6893\n",
      "Epoch 13/50\n",
      "5218/5218 [==============================] - 2s 317us/step - loss: 0.7504 - accuracy: 0.6886 - val_loss: 0.7613 - val_accuracy: 0.6844\n",
      "Epoch 14/50\n",
      "5218/5218 [==============================] - 1s 271us/step - loss: 0.7464 - accuracy: 0.6892 - val_loss: 0.7523 - val_accuracy: 0.6902\n",
      "Epoch 15/50\n",
      "5218/5218 [==============================] - 1s 278us/step - loss: 0.7408 - accuracy: 0.6892 - val_loss: 0.7462 - val_accuracy: 0.6947\n",
      "Epoch 16/50\n",
      "5218/5218 [==============================] - 1s 241us/step - loss: 0.7361 - accuracy: 0.6895 - val_loss: 0.7430 - val_accuracy: 0.6938\n",
      "Epoch 17/50\n",
      "5218/5218 [==============================] - 1s 253us/step - loss: 0.7306 - accuracy: 0.6941 - val_loss: 0.7391 - val_accuracy: 0.6947\n",
      "Epoch 18/50\n",
      "5218/5218 [==============================] - 2s 376us/step - loss: 0.7272 - accuracy: 0.6991 - val_loss: 0.7357 - val_accuracy: 0.6956\n",
      "Epoch 19/50\n",
      "5218/5218 [==============================] - 2s 342us/step - loss: 0.7251 - accuracy: 0.6966 - val_loss: 0.7330 - val_accuracy: 0.6942\n",
      "Epoch 20/50\n",
      "5218/5218 [==============================] - 1s 236us/step - loss: 0.7202 - accuracy: 0.7012 - val_loss: 0.7290 - val_accuracy: 0.6992\n",
      "Epoch 21/50\n",
      "5218/5218 [==============================] - 1s 266us/step - loss: 0.7180 - accuracy: 0.6968 - val_loss: 0.7250 - val_accuracy: 0.7014\n",
      "Epoch 22/50\n",
      "5218/5218 [==============================] - 1s 241us/step - loss: 0.7144 - accuracy: 0.7005 - val_loss: 0.7245 - val_accuracy: 0.6978\n",
      "Epoch 23/50\n",
      "5218/5218 [==============================] - 1s 255us/step - loss: 0.7137 - accuracy: 0.7022 - val_loss: 0.7309 - val_accuracy: 0.7005\n",
      "Epoch 24/50\n",
      "5218/5218 [==============================] - 2s 407us/step - loss: 0.7098 - accuracy: 0.7012 - val_loss: 0.7179 - val_accuracy: 0.7009\n",
      "Epoch 25/50\n",
      "5218/5218 [==============================] - 2s 407us/step - loss: 0.7066 - accuracy: 0.7058 - val_loss: 0.7170 - val_accuracy: 0.7018\n",
      "Epoch 26/50\n",
      "5218/5218 [==============================] - 1s 272us/step - loss: 0.7021 - accuracy: 0.7033 - val_loss: 0.7110 - val_accuracy: 0.7032\n",
      "Epoch 27/50\n",
      "5218/5218 [==============================] - 2s 294us/step - loss: 0.7007 - accuracy: 0.7054 - val_loss: 0.7106 - val_accuracy: 0.7032\n",
      "Epoch 28/50\n",
      "5218/5218 [==============================] - 2s 290us/step - loss: 0.6974 - accuracy: 0.7116 - val_loss: 0.7069 - val_accuracy: 0.6983\n",
      "Epoch 29/50\n",
      "5218/5218 [==============================] - 1s 256us/step - loss: 0.6948 - accuracy: 0.7074 - val_loss: 0.7035 - val_accuracy: 0.7068\n",
      "Epoch 30/50\n",
      "5218/5218 [==============================] - 1s 273us/step - loss: 0.6904 - accuracy: 0.7100 - val_loss: 0.7033 - val_accuracy: 0.7005\n",
      "Epoch 31/50\n",
      "5218/5218 [==============================] - 2s 295us/step - loss: 0.6891 - accuracy: 0.7097 - val_loss: 0.7015 - val_accuracy: 0.7063\n",
      "Epoch 32/50\n",
      "5218/5218 [==============================] - 2s 345us/step - loss: 0.6856 - accuracy: 0.7143 - val_loss: 0.7036 - val_accuracy: 0.7050\n",
      "Epoch 33/50\n",
      "5218/5218 [==============================] - 1s 252us/step - loss: 0.6870 - accuracy: 0.7127 - val_loss: 0.7003 - val_accuracy: 0.7045\n",
      "Epoch 34/50\n",
      "5218/5218 [==============================] - 1s 264us/step - loss: 0.6824 - accuracy: 0.7145 - val_loss: 0.7006 - val_accuracy: 0.7041\n",
      "Epoch 35/50\n",
      "5218/5218 [==============================] - 2s 295us/step - loss: 0.6828 - accuracy: 0.7146 - val_loss: 0.6989 - val_accuracy: 0.7063\n",
      "Epoch 36/50\n",
      "5218/5218 [==============================] - 1s 246us/step - loss: 0.6819 - accuracy: 0.7143 - val_loss: 0.7033 - val_accuracy: 0.7090\n",
      "Epoch 37/50\n",
      "5218/5218 [==============================] - 2s 338us/step - loss: 0.6784 - accuracy: 0.7173 - val_loss: 0.6970 - val_accuracy: 0.7068\n",
      "Epoch 38/50\n",
      "5218/5218 [==============================] - 2s 334us/step - loss: 0.6797 - accuracy: 0.7164 - val_loss: 0.6957 - val_accuracy: 0.7076\n",
      "Epoch 39/50\n",
      "5218/5218 [==============================] - 1s 275us/step - loss: 0.6761 - accuracy: 0.7152 - val_loss: 0.6946 - val_accuracy: 0.7063\n",
      "Epoch 40/50\n",
      "5218/5218 [==============================] - 1s 245us/step - loss: 0.6777 - accuracy: 0.7167 - val_loss: 0.6936 - val_accuracy: 0.7090\n",
      "Epoch 41/50\n",
      "5218/5218 [==============================] - 1s 266us/step - loss: 0.6771 - accuracy: 0.7167 - val_loss: 0.6905 - val_accuracy: 0.7059\n",
      "Epoch 42/50\n",
      "5218/5218 [==============================] - 1s 234us/step - loss: 0.6748 - accuracy: 0.7152 - val_loss: 0.6899 - val_accuracy: 0.7108\n",
      "Epoch 43/50\n",
      "5218/5218 [==============================] - 1s 235us/step - loss: 0.6731 - accuracy: 0.7177 - val_loss: 0.6931 - val_accuracy: 0.7135\n",
      "Epoch 44/50\n",
      "5218/5218 [==============================] - 2s 333us/step - loss: 0.6718 - accuracy: 0.7179 - val_loss: 0.6885 - val_accuracy: 0.7143\n",
      "Epoch 45/50\n",
      "5218/5218 [==============================] - 2s 322us/step - loss: 0.6713 - accuracy: 0.7173 - val_loss: 0.6921 - val_accuracy: 0.7117\n",
      "Epoch 46/50\n",
      "5218/5218 [==============================] - 1s 252us/step - loss: 0.6732 - accuracy: 0.7194 - val_loss: 0.6914 - val_accuracy: 0.7103\n"
     ]
    },
    {
     "data": {
      "text/plain": [
       "<keras.callbacks.callbacks.History at 0x1ad6211518>"
      ]
     },
     "execution_count": 721,
     "metadata": {},
     "output_type": "execute_result"
    }
   ],
   "source": [
    "model_2 = Sequential()\n",
    "model_2.add(Dense(10, activation='relu', input_shape=(n_cols,)))\n",
    "model_2.add(Dense(10, activation='relu'))\n",
    "model_2.add(Dense(5, activation='softmax'))\n",
    "model_2.compile(optimizer='adam', loss='categorical_crossentropy', metrics=['accuracy'])\n",
    "model_2.fit(X_train, y_train, validation_split=0.3,\n",
    "        epochs=50, callbacks=[early_stopping_monitor])"
   ]
  },
  {
   "cell_type": "code",
   "execution_count": 722,
   "metadata": {},
   "outputs": [],
   "source": [
    "model_2.save('model_2.h5')"
   ]
  },
  {
   "cell_type": "code",
   "execution_count": 724,
   "metadata": {},
   "outputs": [
    {
     "name": "stdout",
     "output_type": "stream",
     "text": [
      "Accuracy for NN: Model_1: 7.57%\n"
     ]
    }
   ],
   "source": [
    "load_2 = load_model('model_2.h5')\n",
    "\n",
    "y_prediction2 = load_2.predict(X_test)\n",
    "\n",
    "#Converting predictions to label\n",
    "pred2 = list()\n",
    "for i in range(len(y_prediction2)):\n",
    "    pred2.append(np.argmax(y_prediction2[i]))\n",
    "    \n",
    "print('Accuracy for NN: Model_1: %.2f%%' % (accuracy_score(pred2,y_test)*100))"
   ]
  },
  {
   "cell_type": "code",
   "execution_count": 727,
   "metadata": {},
   "outputs": [
    {
     "name": "stdout",
     "output_type": "stream",
     "text": [
      "Train on 5218 samples, validate on 2237 samples\n",
      "Epoch 1/50\n",
      "5218/5218 [==============================] - 3s 552us/step - loss: 1.0908 - accuracy: 0.6504 - val_loss: 0.9931 - val_accuracy: 0.6616\n",
      "Epoch 2/50\n",
      "5218/5218 [==============================] - 1s 218us/step - loss: 0.9271 - accuracy: 0.6524 - val_loss: 0.8738 - val_accuracy: 0.6665\n",
      "Epoch 3/50\n",
      "5218/5218 [==============================] - 1s 221us/step - loss: 0.8260 - accuracy: 0.6717 - val_loss: 0.7997 - val_accuracy: 0.6750\n",
      "Epoch 4/50\n",
      "5218/5218 [==============================] - 1s 217us/step - loss: 0.7779 - accuracy: 0.6801 - val_loss: 0.7736 - val_accuracy: 0.6768\n",
      "Epoch 5/50\n",
      "5218/5218 [==============================] - 2s 330us/step - loss: 0.7551 - accuracy: 0.6847 - val_loss: 0.7595 - val_accuracy: 0.6902\n",
      "Epoch 6/50\n",
      "5218/5218 [==============================] - 3s 517us/step - loss: 0.7464 - accuracy: 0.6901 - val_loss: 0.7405 - val_accuracy: 0.6942\n",
      "Epoch 7/50\n",
      "5218/5218 [==============================] - 2s 373us/step - loss: 0.7364 - accuracy: 0.6930 - val_loss: 0.7357 - val_accuracy: 0.7000\n",
      "Epoch 8/50\n",
      "5218/5218 [==============================] - 3s 526us/step - loss: 0.7307 - accuracy: 0.6959 - val_loss: 0.7285 - val_accuracy: 0.6956\n",
      "Epoch 9/50\n",
      "5218/5218 [==============================] - 2s 472us/step - loss: 0.7178 - accuracy: 0.7030 - val_loss: 0.7189 - val_accuracy: 0.6996\n",
      "Epoch 10/50\n",
      "5218/5218 [==============================] - 2s 446us/step - loss: 0.7120 - accuracy: 0.7024 - val_loss: 0.7170 - val_accuracy: 0.7076\n",
      "Epoch 11/50\n",
      "5218/5218 [==============================] - 2s 413us/step - loss: 0.7047 - accuracy: 0.7012 - val_loss: 0.7129 - val_accuracy: 0.7054\n",
      "Epoch 12/50\n",
      "5218/5218 [==============================] - 4s 844us/step - loss: 0.6998 - accuracy: 0.7031 - val_loss: 0.7059 - val_accuracy: 0.7050\n",
      "Epoch 13/50\n",
      "5218/5218 [==============================] - 3s 638us/step - loss: 0.6961 - accuracy: 0.7081 - val_loss: 0.7028 - val_accuracy: 0.7050\n",
      "Epoch 14/50\n",
      "5218/5218 [==============================] - 3s 494us/step - loss: 0.6931 - accuracy: 0.7077 - val_loss: 0.6993 - val_accuracy: 0.7009\n",
      "Epoch 15/50\n",
      "5218/5218 [==============================] - 3s 648us/step - loss: 0.6880 - accuracy: 0.7106 - val_loss: 0.7031 - val_accuracy: 0.7068\n",
      "Epoch 16/50\n",
      "5218/5218 [==============================] - 3s 649us/step - loss: 0.6854 - accuracy: 0.7123 - val_loss: 0.6930 - val_accuracy: 0.7094\n",
      "Epoch 17/50\n",
      "5218/5218 [==============================] - 2s 370us/step - loss: 0.6829 - accuracy: 0.7120 - val_loss: 0.6947 - val_accuracy: 0.7068\n",
      "Epoch 18/50\n",
      "5218/5218 [==============================] - 2s 292us/step - loss: 0.6833 - accuracy: 0.7108 - val_loss: 0.6914 - val_accuracy: 0.7094\n",
      "Epoch 19/50\n",
      "5218/5218 [==============================] - 2s 323us/step - loss: 0.6779 - accuracy: 0.7125 - val_loss: 0.6906 - val_accuracy: 0.7117\n",
      "Epoch 20/50\n",
      "5218/5218 [==============================] - 2s 466us/step - loss: 0.6758 - accuracy: 0.7129 - val_loss: 0.6929 - val_accuracy: 0.7103\n",
      "Epoch 21/50\n",
      "5218/5218 [==============================] - 2s 444us/step - loss: 0.6733 - accuracy: 0.7166 - val_loss: 0.6890 - val_accuracy: 0.7112\n",
      "Epoch 22/50\n",
      "5218/5218 [==============================] - 2s 463us/step - loss: 0.6703 - accuracy: 0.7206 - val_loss: 0.6865 - val_accuracy: 0.7103\n",
      "Epoch 23/50\n",
      "5218/5218 [==============================] - 1s 269us/step - loss: 0.6704 - accuracy: 0.7154 - val_loss: 0.6899 - val_accuracy: 0.7166\n",
      "Epoch 24/50\n",
      "5218/5218 [==============================] - 1s 272us/step - loss: 0.6690 - accuracy: 0.7187 - val_loss: 0.7026 - val_accuracy: 0.7130\n",
      "Accuracy for NN: Model_1: 4.19%\n"
     ]
    }
   ],
   "source": [
    "model_3 = Sequential()\n",
    "model_3.add(Dense(21, activation='relu', input_shape=(n_cols,)))\n",
    "model_3.add(Dense(21, activation='relu'))\n",
    "model_3.add(Dense(21, activation='relu'))\n",
    "model_3.add(Dense(5, activation='softmax'))\n",
    "model_3.compile(optimizer='adam', loss='categorical_crossentropy', metrics=['accuracy'])\n",
    "model_3.fit(X_train, y_train, validation_split=0.3,\n",
    "        epochs=50, callbacks=[early_stopping_monitor])\n",
    "\n",
    "model_3.save('model_3.h5')\n",
    "\n",
    "load_3 = load_model('model_3.h5')\n",
    "\n",
    "y_prediction3 = load_3.predict(X_test)\n",
    "\n",
    "#Converting predictions to label\n",
    "pred3 = list()\n",
    "for i in range(len(y_prediction3)):\n",
    "    pred3.append(np.argmax(y_prediction3[i]))\n",
    "    \n",
    "print('Accuracy for NN: Model_1: %.2f%%' % (accuracy_score(pred3,y_test)*100))"
   ]
  },
  {
   "cell_type": "code",
   "execution_count": null,
   "metadata": {},
   "outputs": [],
   "source": []
  },
  {
   "cell_type": "code",
   "execution_count": 1,
   "metadata": {},
   "outputs": [
    {
     "ename": "NameError",
     "evalue": "name 'model_performance' is not defined",
     "output_type": "error",
     "traceback": [
      "\u001b[0;31m---------------------------------------------------------------------------\u001b[0m",
      "\u001b[0;31mNameError\u001b[0m                                 Traceback (most recent call last)",
      "\u001b[0;32m<ipython-input-1-a8fcab0687d9>\u001b[0m in \u001b[0;36m<module>\u001b[0;34m\u001b[0m\n\u001b[0;32m----> 1\u001b[0;31m \u001b[0mmodel_performance\u001b[0m\u001b[0;34m\u001b[0m\u001b[0;34m\u001b[0m\u001b[0m\n\u001b[0m",
      "\u001b[0;31mNameError\u001b[0m: name 'model_performance' is not defined"
     ]
    }
   ],
   "source": [
    "model_performance"
   ]
  },
  {
   "cell_type": "code",
   "execution_count": null,
   "metadata": {},
   "outputs": [],
   "source": []
  },
  {
   "cell_type": "code",
   "execution_count": null,
   "metadata": {},
   "outputs": [],
   "source": []
  },
  {
   "cell_type": "code",
   "execution_count": null,
   "metadata": {},
   "outputs": [],
   "source": []
  },
  {
   "cell_type": "code",
   "execution_count": null,
   "metadata": {},
   "outputs": [],
   "source": []
  }
 ],
 "metadata": {
  "kernelspec": {
   "display_name": "Python 3",
   "language": "python",
   "name": "python3"
  },
  "language_info": {
   "codemirror_mode": {
    "name": "ipython",
    "version": 3
   },
   "file_extension": ".py",
   "mimetype": "text/x-python",
   "name": "python",
   "nbconvert_exporter": "python",
   "pygments_lexer": "ipython3",
   "version": "3.7.1"
  }
 },
 "nbformat": 4,
 "nbformat_minor": 2
}
