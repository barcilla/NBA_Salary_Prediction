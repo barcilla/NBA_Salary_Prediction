{
 "cells": [
  {
   "cell_type": "code",
   "execution_count": 6,
   "metadata": {},
   "outputs": [],
   "source": [
    "from urllib.request import urlopen\n",
    "from bs4 import BeautifulSoup\n",
    "import pandas as pd\n",
    "import re\n",
    "import requests\n",
    "\n",
    "year=[] \n",
    "for i in range(1997,2018):\n",
    "    year.append(i)\n",
    "\n",
    "all_url=[]\n",
    "for x in year:\n",
    "   all_url.append('https://www.basketball-reference.com/leagues/NBA_{}_advanced.html'.format(x))\n",
    "\n",
    "#Create function to scrape URL \n",
    "def urlScraping(url):\n",
    "    \n",
    "    nba=BeautifulSoup(urlopen(url))\n",
    "\n",
    "    #Obtain Headers\n",
    "    headers=[th.getText() for th in nba.findAll('tr')[0].findAll('th')]\n",
    "    headers=headers[1:]\n",
    "\n",
    "    #Obtain player data in rows\n",
    "    rows = nba.findAll('tr')[1:]\n",
    "    player_stats=[[td.getText() for td in rows[i].findAll('td')] for i in range (len(rows))]\n",
    "\n",
    "    #Obtain playerID from rows\n",
    "    player_id=[]\n",
    "    player=[[data['data-append-csv'] for data in rows[i].findAll('td',{'data-append-csv':True})] for i in range(len(rows))]\n",
    "\n",
    "    for x in player:\n",
    "        for y in x:\n",
    "            player_id.append(y)\n",
    "\n",
    "\n",
    "    #Create stats data frame\n",
    "    st=pd.DataFrame(player_stats, columns=headers)\n",
    "\n",
    "    col= [c for c in st.columns if c.isspace()==False]\n",
    "\n",
    "    st=st[col]\n",
    "\n",
    "    st=st[st['Player'].notnull()]\n",
    "\n",
    "    st.reset_index(inplace=True)\n",
    "\n",
    "    #Add Year to DataFrame\n",
    "    yr = [x.getText() for x in nba.findAll('span')]\n",
    "    r=re.compile(r'\\d')\n",
    "    yr_list=list(filter(r.match, yr))\n",
    "    nba_year=int(re.findall('\\d+', yr_list[0])[0])\n",
    "    nba_year=nba_year+1\n",
    "\n",
    "    st['Year']=nba_year\n",
    "\n",
    "\n",
    "    #Add PlayerID to stats\n",
    "    st['player_id']=player_id\n",
    "\n",
    "    #Drop index column\n",
    "    st.drop('index', axis=1, inplace=True)\n",
    "\n",
    "    #Convert objects to floats/int\n",
    "    st[['G', 'MP', 'PER', 'TS%', '3PAr', 'FTr','ORB%', 'DRB%', 'TRB%', 'AST%', 'STL%', 'BLK%', 'TOV%', 'USG%', 'OWS','DWS', 'WS', 'WS/48', 'OBPM', 'DBPM', 'BPM', 'VORP']]=st[['G', 'MP', 'PER', 'TS%', '3PAr', 'FTr','ORB%', 'DRB%', 'TRB%', 'AST%', 'STL%', 'BLK%', 'TOV%', 'USG%', 'OWS','DWS', 'WS', 'WS/48', 'OBPM', 'DBPM', 'BPM', 'VORP']].apply(pd.to_numeric)\n",
    "    \n",
    "    return st"
   ]
  },
  {
   "cell_type": "code",
   "execution_count": 7,
   "metadata": {},
   "outputs": [],
   "source": [
    "#Loop to create CSV Files\n",
    "#for url in all_url:\n",
    "#    data = urlScraping(url)\n",
    "#   name = 'data/nba_advancedstats_'+str(data['Year'][0])+'.csv'\n",
    "#    data.to_csv(name)\n",
    "    "
   ]
  },
  {
   "cell_type": "code",
   "execution_count": 8,
   "metadata": {},
   "outputs": [],
   "source": [
    "#Concat nba_advanced_stats data\n",
    "file_name='data/nba_advancedstats_{}.csv'\n",
    "adv_stats_list=[]\n",
    "for x in range(1997,2018):\n",
    "    adv_stats_list.append(pd.read_csv(file_name.format(x)))\n",
    "\n",
    "adv_stats=pd.concat(adv_stats_list)\n"
   ]
  },
  {
   "cell_type": "code",
   "execution_count": 73,
   "metadata": {},
   "outputs": [],
   "source": [
    "#To get salary data, the URL needs to be setup\n",
    "\n",
    "player_id=[x for x in adv_stats['player_id'].unique()]\n",
    "first_letter = []\n",
    "for x in player_id:\n",
    "    y=x[0]\n",
    "    first_letter.append(y)\n",
    "\n",
    "tup=list(zip(first_letter,player_id))\n",
    "\n",
    "salary_url=[]\n",
    "for x in tup:\n",
    "    salary_url.append('https://www.basketball-reference.com/players/{}/{}.html'.format(*x))\n",
    "    \n",
    "#Create a function\n",
    "def salScraping(url):\n",
    "    html=requests.get(url)\n",
    "    html_doc=html.text.replace('<!--','').replace('-->','')\n",
    "    content=BeautifulSoup(html_doc,'html.parser')\n",
    "    sal=content.find(id='all_salaries')\n",
    "    id=content.find('meta',attrs={'property':'og:url'})\n",
    "    pl_id=re.findall(r'/www.basketball-reference.com/players/[a-z]/(.*).html', str(id))\n",
    "    header=[th.getText() for th in sal.findAll('tr')[0].findAll('th')]\n",
    "    header=header[1:]\n",
    "    rows=sal.findAll('tr')[1:]\n",
    "    team=sal.findAll('td', {'data-stat':'team_name'})\n",
    "    pl_sal=[[td.getText() for td in rows[i].findAll('td')] for i in range (len(rows))]\n",
    "    pl_season=[[th.getText() for th in rows[i].findAll('th')] for i in range (len(rows))]\n",
    "    pl_team=[[x['href'] for x in team[i].findAll('a', {'href':True})] for i in range(len(team))]\n",
    "\n",
    "    df_sal=pd.DataFrame(pl_sal,columns=header)\n",
    "    season=[]\n",
    "    for x in pl_season:\n",
    "        for y in x:\n",
    "           season.append(y) \n",
    "    teams=[]\n",
    "    for x in pl_team:\n",
    "        for y in x:\n",
    "            y=re.findall(r'/teams/(.*)/', y)\n",
    "            for z in y:\n",
    "                teams.append(z)\n",
    "    start_yr=[]\n",
    "    for x in season:\n",
    "        x=re.findall('\\d\\d\\d\\d',x)\n",
    "        for y in x:\n",
    "            start_yr.append(int(y))\n",
    "\n",
    "    end_yr=[]\n",
    "    for x in season:\n",
    "        x=re.findall('\\d\\d\\d\\d',x)\n",
    "        for y in x:\n",
    "            y=int(y)+1\n",
    "            end_yr.append(y)\n",
    "\n",
    "    df_sal['Season']=season\n",
    "    df_sal.drop(df_sal.index[-1], inplace=True)\n",
    "    df_sal['team_id']=teams\n",
    "    df_sal['season_start']=start_yr\n",
    "    df_sal['season_end']=end_yr\n",
    "    player_id=pd.DataFrame(pl_id, columns=['player_id'])\n",
    "    df_salary=pd.concat([df_sal, player_id], sort=False)\n",
    "    df_salary.bfill(inplace=True)\n",
    "    df_salary.drop(df_salary.index[-1],inplace=True)\n",
    "    df_salary.reset_index(inplace=True)\n",
    "    df_salary.drop('index', axis=1, inplace=True)\n",
    "    return df_salary"
   ]
  },
  {
   "cell_type": "code",
   "execution_count": 74,
   "metadata": {},
   "outputs": [
    {
     "ename": "AttributeError",
     "evalue": "'NoneType' object has no attribute 'findAll'",
     "output_type": "error",
     "traceback": [
      "\u001b[0;31m---------------------------------------------------------------------------\u001b[0m",
      "\u001b[0;31mAttributeError\u001b[0m                            Traceback (most recent call last)",
      "\u001b[0;32m<ipython-input-74-5b0c73dae427>\u001b[0m in \u001b[0;36m<module>\u001b[0;34m\u001b[0m\n\u001b[1;32m      1\u001b[0m \u001b[0;31m#Loop to create CSV Files\u001b[0m\u001b[0;34m\u001b[0m\u001b[0;34m\u001b[0m\u001b[0;34m\u001b[0m\u001b[0m\n\u001b[1;32m      2\u001b[0m \u001b[0;32mfor\u001b[0m \u001b[0murl\u001b[0m \u001b[0;32min\u001b[0m \u001b[0msalary_url\u001b[0m\u001b[0;34m:\u001b[0m\u001b[0;34m\u001b[0m\u001b[0;34m\u001b[0m\u001b[0m\n\u001b[0;32m----> 3\u001b[0;31m     \u001b[0mdata\u001b[0m \u001b[0;34m=\u001b[0m \u001b[0msalScraping\u001b[0m\u001b[0;34m(\u001b[0m\u001b[0murl\u001b[0m\u001b[0;34m)\u001b[0m\u001b[0;34m\u001b[0m\u001b[0;34m\u001b[0m\u001b[0m\n\u001b[0m\u001b[1;32m      4\u001b[0m     \u001b[0mname\u001b[0m \u001b[0;34m=\u001b[0m \u001b[0;34m'data/nba_salary/nba_salary_'\u001b[0m\u001b[0;34m+\u001b[0m\u001b[0mstr\u001b[0m\u001b[0;34m(\u001b[0m\u001b[0mdata\u001b[0m\u001b[0;34m[\u001b[0m\u001b[0;34m'player_id'\u001b[0m\u001b[0;34m]\u001b[0m\u001b[0;34m[\u001b[0m\u001b[0;36m0\u001b[0m\u001b[0;34m]\u001b[0m\u001b[0;34m)\u001b[0m\u001b[0;34m+\u001b[0m\u001b[0;34m'.csv'\u001b[0m\u001b[0;34m\u001b[0m\u001b[0;34m\u001b[0m\u001b[0m\n\u001b[1;32m      5\u001b[0m     \u001b[0mdata\u001b[0m\u001b[0;34m.\u001b[0m\u001b[0mto_csv\u001b[0m\u001b[0;34m(\u001b[0m\u001b[0mname\u001b[0m\u001b[0;34m)\u001b[0m\u001b[0;34m\u001b[0m\u001b[0;34m\u001b[0m\u001b[0m\n",
      "\u001b[0;32m<ipython-input-73-df42cdfdf388>\u001b[0m in \u001b[0;36msalScraping\u001b[0;34m(url)\u001b[0m\n\u001b[1;32m     21\u001b[0m     \u001b[0mid\u001b[0m\u001b[0;34m=\u001b[0m\u001b[0mcontent\u001b[0m\u001b[0;34m.\u001b[0m\u001b[0mfind\u001b[0m\u001b[0;34m(\u001b[0m\u001b[0;34m'meta'\u001b[0m\u001b[0;34m,\u001b[0m\u001b[0mattrs\u001b[0m\u001b[0;34m=\u001b[0m\u001b[0;34m{\u001b[0m\u001b[0;34m'property'\u001b[0m\u001b[0;34m:\u001b[0m\u001b[0;34m'og:url'\u001b[0m\u001b[0;34m}\u001b[0m\u001b[0;34m)\u001b[0m\u001b[0;34m\u001b[0m\u001b[0;34m\u001b[0m\u001b[0m\n\u001b[1;32m     22\u001b[0m     \u001b[0mpl_id\u001b[0m\u001b[0;34m=\u001b[0m\u001b[0mre\u001b[0m\u001b[0;34m.\u001b[0m\u001b[0mfindall\u001b[0m\u001b[0;34m(\u001b[0m\u001b[0;34mr'/www.basketball-reference.com/players/[a-z]/(.*).html'\u001b[0m\u001b[0;34m,\u001b[0m \u001b[0mstr\u001b[0m\u001b[0;34m(\u001b[0m\u001b[0mid\u001b[0m\u001b[0;34m)\u001b[0m\u001b[0;34m)\u001b[0m\u001b[0;34m\u001b[0m\u001b[0;34m\u001b[0m\u001b[0m\n\u001b[0;32m---> 23\u001b[0;31m     \u001b[0mheader\u001b[0m\u001b[0;34m=\u001b[0m\u001b[0;34m[\u001b[0m\u001b[0mth\u001b[0m\u001b[0;34m.\u001b[0m\u001b[0mgetText\u001b[0m\u001b[0;34m(\u001b[0m\u001b[0;34m)\u001b[0m \u001b[0;32mfor\u001b[0m \u001b[0mth\u001b[0m \u001b[0;32min\u001b[0m \u001b[0msal\u001b[0m\u001b[0;34m.\u001b[0m\u001b[0mfindAll\u001b[0m\u001b[0;34m(\u001b[0m\u001b[0;34m'tr'\u001b[0m\u001b[0;34m)\u001b[0m\u001b[0;34m[\u001b[0m\u001b[0;36m0\u001b[0m\u001b[0;34m]\u001b[0m\u001b[0;34m.\u001b[0m\u001b[0mfindAll\u001b[0m\u001b[0;34m(\u001b[0m\u001b[0;34m'th'\u001b[0m\u001b[0;34m)\u001b[0m\u001b[0;34m]\u001b[0m\u001b[0;34m\u001b[0m\u001b[0;34m\u001b[0m\u001b[0m\n\u001b[0m\u001b[1;32m     24\u001b[0m     \u001b[0mheader\u001b[0m\u001b[0;34m=\u001b[0m\u001b[0mheader\u001b[0m\u001b[0;34m[\u001b[0m\u001b[0;36m1\u001b[0m\u001b[0;34m:\u001b[0m\u001b[0;34m]\u001b[0m\u001b[0;34m\u001b[0m\u001b[0;34m\u001b[0m\u001b[0m\n\u001b[1;32m     25\u001b[0m     \u001b[0mrows\u001b[0m\u001b[0;34m=\u001b[0m\u001b[0msal\u001b[0m\u001b[0;34m.\u001b[0m\u001b[0mfindAll\u001b[0m\u001b[0;34m(\u001b[0m\u001b[0;34m'tr'\u001b[0m\u001b[0;34m)\u001b[0m\u001b[0;34m[\u001b[0m\u001b[0;36m1\u001b[0m\u001b[0;34m:\u001b[0m\u001b[0;34m]\u001b[0m\u001b[0;34m\u001b[0m\u001b[0;34m\u001b[0m\u001b[0m\n",
      "\u001b[0;31mAttributeError\u001b[0m: 'NoneType' object has no attribute 'findAll'"
     ]
    }
   ],
   "source": [
    "#Loop to create CSV Files\n",
    "for url in salary_url:\n",
    "    data = salScraping(url)\n",
    "    name = 'data/nba_salary/nba_salary_'+str(data['player_id'][0])+'.csv'\n",
    "    data.to_csv(name)"
   ]
  },
  {
   "cell_type": "code",
   "execution_count": null,
   "metadata": {},
   "outputs": [],
   "source": []
  },
  {
   "cell_type": "code",
   "execution_count": null,
   "metadata": {},
   "outputs": [],
   "source": []
  },
  {
   "cell_type": "code",
   "execution_count": null,
   "metadata": {},
   "outputs": [],
   "source": []
  },
  {
   "cell_type": "code",
   "execution_count": 4,
   "metadata": {},
   "outputs": [],
   "source": [
    "#Salary and inflation\n",
    "inflation=pd.read_csv('data/CPIAUCNS.csv', parse_dates=True)\n",
    "salary=pd.read_csv('data/salaries_1985to2018.csv')"
   ]
  },
  {
   "cell_type": "code",
   "execution_count": 6,
   "metadata": {},
   "outputs": [],
   "source": [
    "#Convert date to datetime in order to extract year\n",
    "inflation.DATE=pd.to_datetime(inflation.DATE)\n",
    "inflation['YEAR']=inflation.DATE.dt.year\n",
    "\n",
    "#Narrow down inflation to Year and Inflation\n",
    "inflation=inflation[['YEAR','CPIAUCNS']]\n",
    "\n",
    "#Create a mean for each year\n",
    "inflation=inflation.groupby('YEAR').mean()\n",
    "\n",
    "#Reset Index\n",
    "inflation=inflation.reset_index()\n",
    "\n",
    "#Create a multiplier for inflation\n",
    "inflation['CPIMult']= (inflation.iloc[-1,1]) / (inflation['CPIAUCNS']) "
   ]
  },
  {
   "cell_type": "code",
   "execution_count": 9,
   "metadata": {},
   "outputs": [],
   "source": [
    "#Merge salary and inflation to adjust salary\n",
    "adj_salary=salary.merge(inflation, left_on='season_end', right_on='YEAR')\n",
    "\n",
    "#Multiply salary by inflation multiplier to get adjusted salary\n",
    "adj_salary['adj_salary']=(adj_salary.salary*adj_salary.CPIMult).round()\n",
    "\n",
    "#Display on certain fields\n",
    "adj_salary=adj_salary[['player_id', 'adj_salary','YEAR', 'season', 'team']]"
   ]
  },
  {
   "cell_type": "code",
   "execution_count": 10,
   "metadata": {},
   "outputs": [],
   "source": [
    "#Merge adv_stats and adj_salary\n",
    "\n",
    "df=pd.merge(adv_stats,adj_salary,how='left',left_on=['player_id','Year'], right_on=['player_id','YEAR'])\n",
    "\n",
    "#Removing null values on adj_salary because it accounted for less than 5% of the data\n",
    "df=df[df.adj_salary.notnull()]"
   ]
  },
  {
   "cell_type": "code",
   "execution_count": 76,
   "metadata": {},
   "outputs": [],
   "source": [
    "#print (df)\n"
   ]
  },
  {
   "cell_type": "code",
   "execution_count": null,
   "metadata": {},
   "outputs": [],
   "source": []
  },
  {
   "cell_type": "code",
   "execution_count": null,
   "metadata": {},
   "outputs": [],
   "source": []
  },
  {
   "cell_type": "code",
   "execution_count": null,
   "metadata": {},
   "outputs": [],
   "source": []
  },
  {
   "cell_type": "code",
   "execution_count": null,
   "metadata": {},
   "outputs": [],
   "source": []
  },
  {
   "cell_type": "code",
   "execution_count": null,
   "metadata": {},
   "outputs": [],
   "source": []
  },
  {
   "cell_type": "code",
   "execution_count": null,
   "metadata": {},
   "outputs": [],
   "source": []
  },
  {
   "cell_type": "code",
   "execution_count": null,
   "metadata": {},
   "outputs": [],
   "source": []
  },
  {
   "cell_type": "code",
   "execution_count": null,
   "metadata": {},
   "outputs": [],
   "source": []
  },
  {
   "cell_type": "code",
   "execution_count": null,
   "metadata": {},
   "outputs": [],
   "source": []
  },
  {
   "cell_type": "code",
   "execution_count": null,
   "metadata": {},
   "outputs": [],
   "source": []
  },
  {
   "cell_type": "code",
   "execution_count": null,
   "metadata": {},
   "outputs": [],
   "source": []
  },
  {
   "cell_type": "code",
   "execution_count": null,
   "metadata": {},
   "outputs": [],
   "source": []
  },
  {
   "cell_type": "code",
   "execution_count": null,
   "metadata": {},
   "outputs": [],
   "source": []
  },
  {
   "cell_type": "code",
   "execution_count": null,
   "metadata": {},
   "outputs": [],
   "source": []
  },
  {
   "cell_type": "code",
   "execution_count": null,
   "metadata": {},
   "outputs": [],
   "source": []
  },
  {
   "cell_type": "code",
   "execution_count": null,
   "metadata": {},
   "outputs": [],
   "source": []
  },
  {
   "cell_type": "code",
   "execution_count": null,
   "metadata": {},
   "outputs": [],
   "source": []
  },
  {
   "cell_type": "code",
   "execution_count": null,
   "metadata": {},
   "outputs": [],
   "source": []
  },
  {
   "cell_type": "code",
   "execution_count": null,
   "metadata": {},
   "outputs": [],
   "source": []
  },
  {
   "cell_type": "code",
   "execution_count": null,
   "metadata": {},
   "outputs": [],
   "source": []
  },
  {
   "cell_type": "code",
   "execution_count": null,
   "metadata": {},
   "outputs": [],
   "source": []
  },
  {
   "cell_type": "code",
   "execution_count": null,
   "metadata": {},
   "outputs": [],
   "source": []
  },
  {
   "cell_type": "code",
   "execution_count": null,
   "metadata": {},
   "outputs": [],
   "source": []
  },
  {
   "cell_type": "code",
   "execution_count": null,
   "metadata": {},
   "outputs": [],
   "source": []
  },
  {
   "cell_type": "code",
   "execution_count": null,
   "metadata": {},
   "outputs": [],
   "source": []
  },
  {
   "cell_type": "code",
   "execution_count": null,
   "metadata": {},
   "outputs": [],
   "source": []
  },
  {
   "cell_type": "code",
   "execution_count": null,
   "metadata": {},
   "outputs": [],
   "source": []
  },
  {
   "cell_type": "code",
   "execution_count": null,
   "metadata": {},
   "outputs": [],
   "source": []
  },
  {
   "cell_type": "code",
   "execution_count": null,
   "metadata": {},
   "outputs": [],
   "source": []
  },
  {
   "cell_type": "code",
   "execution_count": null,
   "metadata": {},
   "outputs": [],
   "source": []
  },
  {
   "cell_type": "code",
   "execution_count": null,
   "metadata": {},
   "outputs": [],
   "source": []
  },
  {
   "cell_type": "code",
   "execution_count": null,
   "metadata": {},
   "outputs": [],
   "source": []
  },
  {
   "cell_type": "code",
   "execution_count": null,
   "metadata": {},
   "outputs": [],
   "source": []
  },
  {
   "cell_type": "code",
   "execution_count": null,
   "metadata": {},
   "outputs": [],
   "source": []
  },
  {
   "cell_type": "code",
   "execution_count": null,
   "metadata": {},
   "outputs": [],
   "source": []
  },
  {
   "cell_type": "code",
   "execution_count": null,
   "metadata": {},
   "outputs": [],
   "source": []
  },
  {
   "cell_type": "code",
   "execution_count": null,
   "metadata": {},
   "outputs": [],
   "source": []
  },
  {
   "cell_type": "code",
   "execution_count": null,
   "metadata": {},
   "outputs": [],
   "source": []
  },
  {
   "cell_type": "code",
   "execution_count": null,
   "metadata": {},
   "outputs": [],
   "source": []
  },
  {
   "cell_type": "code",
   "execution_count": null,
   "metadata": {},
   "outputs": [],
   "source": []
  },
  {
   "cell_type": "code",
   "execution_count": null,
   "metadata": {},
   "outputs": [],
   "source": []
  },
  {
   "cell_type": "code",
   "execution_count": null,
   "metadata": {},
   "outputs": [],
   "source": []
  }
 ],
 "metadata": {
  "kernelspec": {
   "display_name": "Python 3",
   "language": "python",
   "name": "python3"
  },
  "language_info": {
   "codemirror_mode": {
    "name": "ipython",
    "version": 3
   },
   "file_extension": ".py",
   "mimetype": "text/x-python",
   "name": "python",
   "nbconvert_exporter": "python",
   "pygments_lexer": "ipython3",
   "version": "3.7.1"
  }
 },
 "nbformat": 4,
 "nbformat_minor": 2
}
